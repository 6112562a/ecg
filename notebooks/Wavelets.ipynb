{
 "cells": [
  {
   "cell_type": "code",
   "execution_count": null,
   "metadata": {
    "collapsed": true
   },
   "outputs": [],
   "source": [
    "%load_ext autoreload\n",
    "import pywt\n",
    "import matplotlib.pyplot as plt\n",
    "import random\n",
    "import numpy as np\n",
    "import sys\n",
    "sys.path.append('../ecg')"
   ]
  },
  {
   "cell_type": "markdown",
   "metadata": {},
   "source": [
    "## Loading Data"
   ]
  },
  {
   "cell_type": "code",
   "execution_count": null,
   "metadata": {
    "collapsed": false
   },
   "outputs": [],
   "source": [
    "import load\n",
    "args = {}\n",
    "\n",
    "class AttrDict(dict):\n",
    "    def __init__(self, *args, **kwargs):\n",
    "        super(AttrDict, self).__init__(*args, **kwargs)\n",
    "        self.__dict__ = self\n",
    "\n",
    "args = AttrDict(data_path=\"../data\")\n",
    "load.load(args, {})"
   ]
  },
  {
   "cell_type": "markdown",
   "metadata": {},
   "source": [
    "## Discrete Wavelet Transforms"
   ]
  },
  {
   "cell_type": "code",
   "execution_count": null,
   "metadata": {
    "collapsed": false
   },
   "outputs": [],
   "source": [
    "def plot(wavelet_name):\n",
    "    db8 = pywt.Wavelet(wavelet_name)\n",
    "    scaling, wavelet, x = db8.wavefun()\n",
    "\n",
    "    fig, axes = plt.subplots(1, 2, sharey=True, figsize=(8,6))\n",
    "    ax1, ax2 = axes\n",
    "\n",
    "    ax1.plot(x, scaling);\n",
    "    ax1.set_title(wavelet_name + ' scaling function, N=8');\n",
    "    ax1.set_ylim(-1.2, 1.2);\n",
    "\n",
    "    ax2.set_title('Wavelet ' + wavelet_name);\n",
    "    ax2.tick_params(labelleft=False);\n",
    "    ax2.plot(x-x.mean(), wavelet);\n",
    "\n",
    "    fig.tight_layout()\n",
    "    plt.show()\n",
    "\n",
    "wavefns = []\n",
    "for wavefn in random.sample(pywt.wavelist(kind='discrete'), 2):\n",
    "    try:\n",
    "        plot(wavefn)\n",
    "    except:\n",
    "        pass\n",
    "    finally:\n",
    "        wavefns.append(wavefn)"
   ]
  },
  {
   "cell_type": "markdown",
   "metadata": {},
   "source": [
    "# Reconstructing Inputs with DWT"
   ]
  },
  {
   "cell_type": "code",
   "execution_count": null,
   "metadata": {
    "collapsed": false
   },
   "outputs": [],
   "source": [
    "def plot_original_reconstructed(original, reconstructed):\n",
    "    fig, axes = plt.subplots(1, 2, sharey=True, figsize=(8,6))\n",
    "    ax1, ax2 = axes\n",
    "\n",
    "    ax1.plot(original);\n",
    "    ax1.set_title('Original');\n",
    "    \n",
    "    ax2.set_title('Reconstructed');\n",
    "    ax2.plot(reconstructed);\n",
    "\n",
    "    fig.tight_layout()\n",
    "    plt.show()\n",
    "\n",
    "def reconstruct_with_wave_fn(original, wave_name):\n",
    "    cA, cD = pywt.dwt(original, wave_name)\n",
    "    reconstructed = pywt.idwt(cA, cD, wave_name)\n",
    "    return reconstructed\n",
    "\n",
    "for wavefn in wavefns:\n",
    "    original = pywt.data.ecg()\n",
    "    reconstructed = reconstruct_with_wave_fn(original, wavefn)\n",
    "    print(wavefn)\n",
    "    plot_original_reconstructed(original, reconstructed)"
   ]
  },
  {
   "cell_type": "markdown",
   "metadata": {},
   "source": [
    "## Continuous Wavelet Transforms"
   ]
  },
  {
   "cell_type": "code",
   "execution_count": null,
   "metadata": {
    "collapsed": false
   },
   "outputs": [],
   "source": [
    "x = np.arange(512)\n",
    "y = np.sin(2*np.pi*x/32)\n",
    "coef, freqs=pywt.cwt(y,np.arange(1,129),'gaus1')\n",
    "plt.matshow(coef) \n",
    "plt.show() "
   ]
  }
 ],
 "metadata": {
  "kernelspec": {
   "display_name": "Python 2",
   "language": "python",
   "name": "python2"
  },
  "language_info": {
   "codemirror_mode": {
    "name": "ipython",
    "version": 2
   },
   "file_extension": ".py",
   "mimetype": "text/x-python",
   "name": "python",
   "nbconvert_exporter": "python",
   "pygments_lexer": "ipython2",
   "version": "2.7.10"
  }
 },
 "nbformat": 4,
 "nbformat_minor": 2
}
