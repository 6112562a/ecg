{
 "cells": [
  {
   "cell_type": "code",
   "execution_count": 1,
   "metadata": {
    "collapsed": true
   },
   "outputs": [],
   "source": [
    "import sys\n",
    "sys.path.append(\"/afs/cs.stanford.edu/u/awni/scr/ecg-master/ecg\")\n",
    "import predict\n",
    "import numpy as np\n",
    "import sklearn.metrics as skm\n",
    "import human_performance\n",
    "import json\n",
    "import collections"
   ]
  },
  {
   "cell_type": "code",
   "execution_count": 3,
   "metadata": {
    "collapsed": false
   },
   "outputs": [
    {
     "name": "stderr",
     "output_type": "stream",
     "text": [
      " 25%|██▌       | 3/12 [00:00<00:00, 27.38it/s]"
     ]
    },
    {
     "name": "stdout",
     "output_type": "stream",
     "text": [
      "\n",
      "===Metric== seq\n",
      "===Model=== Human Performance with review 0\n",
      "\n",
      "             precision    recall  f1-score   support\n",
      "\n",
      "         AF      0.740     0.672     0.704      1011\n",
      "        AVB      0.785     0.682     0.730       851\n",
      "   BIGEMINY      0.869     0.894     0.881       216\n",
      "        EAR      0.395     0.117     0.181       256\n",
      "        IVR      0.771     0.759     0.765       195\n",
      " JUNCTIONAL      0.694     0.663     0.678       570\n",
      "      NOISE      0.784     0.835     0.809       605\n",
      "      SINUS      0.796     0.935     0.860      3034\n",
      "        SVT      0.535     0.344     0.419       308\n",
      "  TRIGEMINY      0.866     0.928     0.896       251\n",
      "         VT      0.521     0.809     0.633        47\n",
      " WENCKEBACH      0.606     0.456     0.520       384\n",
      "\n",
      "avg / total      0.748     0.764     0.749      7728\n",
      "\n"
     ]
    },
    {
     "name": "stderr",
     "output_type": "stream",
     "text": [
      "100%|██████████| 12/12 [00:00<00:00, 27.51it/s]\n",
      "100%|██████████| 12/12 [00:00<00:00, 309.29it/s]\n"
     ]
    },
    {
     "name": "stdout",
     "output_type": "stream",
     "text": [
      "\n",
      "===Metric== seq\n",
      "===Model=== Human Performance with review 0\n",
      "\n",
      "c_name        roc_auc    false_pos_rates    true_pos_rates\n",
      "----------  ---------  -----------------  ----------------\n",
      "AF              0.818              0.036             0.672\n",
      "AVB             0.829              0.023             0.682\n",
      "BIGEMINY        0.945              0.004             0.894\n",
      "EAR             0.556              0.006             0.117\n",
      "IVR             0.877              0.006             0.759\n",
      "JUNCTIONAL      0.820              0.023             0.663\n",
      "NOISE           0.908              0.020             0.835\n",
      "SINUS           0.890              0.155             0.935\n",
      "SVT             0.666              0.012             0.344\n",
      "TRIGEMINY       0.962              0.005             0.928\n",
      "VT              0.902              0.005             0.809\n",
      "WENCKEBACH      0.720              0.016             0.456\n",
      "\n",
      "===Metric== set\n",
      "===Model=== Human Performance with review 0\n",
      "\n",
      "             precision    recall  f1-score   support\n",
      "\n",
      "         AF      0.830     0.639     0.722        61\n",
      "        AVB      0.729     0.673     0.700        52\n",
      "   BIGEMINY      0.833     0.909     0.870        22\n",
      "        EAR      0.273     0.136     0.182        22\n",
      "        IVR      0.848     0.824     0.836        34\n",
      " JUNCTIONAL      0.619     0.703     0.658        37\n",
      "      NOISE      0.698     0.732     0.714        41\n",
      "      SINUS      0.882     0.959     0.919       218\n",
      "        SVT      0.640     0.471     0.542        34\n",
      "  TRIGEMINY      0.792     0.905     0.844        21\n",
      "         VT      0.727     0.941     0.821        17\n",
      " WENCKEBACH      0.789     0.484     0.600        31\n",
      "\n",
      "avg / total      0.781     0.773     0.771       590\n",
      "\n",
      "\n",
      "===Metric== set\n",
      "===Model=== Human Performance with review 0\n",
      "\n",
      "c_name        roc_auc    false_pos_rates    true_pos_rates\n",
      "----------  ---------  -----------------  ----------------\n",
      "AF              0.805              0.029             0.639\n",
      "AVB             0.814              0.046             0.673\n",
      "BIGEMINY        0.948              0.013             0.909\n",
      "EAR             0.555              0.025             0.136\n",
      "IVR             0.903              0.017             0.824\n",
      "JUNCTIONAL      0.825              0.054             0.703\n",
      "NOISE           0.844              0.044             0.732\n",
      "SINUS           0.861              0.237             0.959\n",
      "SVT             0.720              0.030             0.471\n",
      "TRIGEMINY       0.944              0.016             0.905\n",
      "VT              0.961              0.019             0.941\n",
      "WENCKEBACH      0.735              0.013             0.484\n"
     ]
    },
    {
     "name": "stderr",
     "output_type": "stream",
     "text": [
      " 25%|██▌       | 3/12 [00:00<00:00, 26.40it/s]"
     ]
    },
    {
     "name": "stdout",
     "output_type": "stream",
     "text": [
      "\n",
      "===Metric== seq\n",
      "===Model=== Human Performance with review 1\n",
      "\n",
      "             precision    recall  f1-score   support\n",
      "\n",
      "         AF      0.689     0.703     0.696      1011\n",
      "        AVB      0.880     0.696     0.777       851\n",
      "   BIGEMINY      0.899     0.741     0.812       216\n",
      "        EAR      0.505     0.375     0.430       256\n",
      "        IVR      0.436     0.492     0.463       195\n",
      " JUNCTIONAL      0.728     0.540     0.620       570\n",
      "      NOISE      0.771     0.701     0.734       605\n",
      "      SINUS      0.784     0.889     0.833      3034\n",
      "        SVT      0.534     0.357     0.428       308\n",
      "  TRIGEMINY      0.906     0.880     0.893       251\n",
      "         VT      0.388     0.809     0.524        47\n",
      " WENCKEBACH      0.575     0.711     0.636       384\n",
      "\n",
      "avg / total      0.743     0.741     0.736      7728\n",
      "\n"
     ]
    },
    {
     "name": "stderr",
     "output_type": "stream",
     "text": [
      "100%|██████████| 12/12 [00:00<00:00, 26.97it/s]\n",
      "100%|██████████| 12/12 [00:00<00:00, 366.74it/s]\n"
     ]
    },
    {
     "name": "stdout",
     "output_type": "stream",
     "text": [
      "\n",
      "===Metric== seq\n",
      "===Model=== Human Performance with review 1\n",
      "\n",
      "c_name        roc_auc    false_pos_rates    true_pos_rates\n",
      "----------  ---------  -----------------  ----------------\n",
      "AF              0.828              0.048             0.703\n",
      "AVB             0.842              0.012             0.696\n",
      "BIGEMINY        0.869              0.002             0.741\n",
      "EAR             0.681              0.013             0.375\n",
      "IVR             0.738              0.016             0.492\n",
      "JUNCTIONAL      0.762              0.016             0.540\n",
      "NOISE           0.842              0.018             0.701\n",
      "SINUS           0.865              0.158             0.889\n",
      "SVT             0.672              0.013             0.357\n",
      "TRIGEMINY       0.939              0.003             0.880\n",
      "VT              0.900              0.008             0.809\n",
      "WENCKEBACH      0.842              0.028             0.711\n",
      "\n",
      "===Metric== set\n",
      "===Model=== Human Performance with review 1\n",
      "\n",
      "             precision    recall  f1-score   support\n",
      "\n",
      "         AF      0.730     0.754     0.742        61\n",
      "        AVB      0.833     0.673     0.745        52\n",
      "   BIGEMINY      0.947     0.818     0.878        22\n",
      "        EAR      0.611     0.500     0.550        22\n",
      "        IVR      0.690     0.588     0.635        34\n",
      " JUNCTIONAL      0.710     0.595     0.647        37\n",
      "      NOISE      0.743     0.634     0.684        41\n",
      "      SINUS      0.879     0.936     0.907       218\n",
      "        SVT      0.708     0.500     0.586        34\n",
      "  TRIGEMINY      0.947     0.857     0.900        21\n",
      "         VT      0.714     0.882     0.789        17\n",
      " WENCKEBACH      0.742     0.742     0.742        31\n",
      "\n",
      "avg / total      0.802     0.771     0.783       590\n",
      "\n",
      "\n",
      "===Metric== set\n",
      "===Model=== Human Performance with review 1\n",
      "\n",
      "c_name        roc_auc    false_pos_rates    true_pos_rates\n",
      "----------  ---------  -----------------  ----------------\n",
      "AF              0.846              0.062             0.754\n",
      "AVB             0.824              0.025             0.673\n",
      "BIGEMINY        0.907              0.003             0.818\n",
      "EAR             0.739              0.022             0.500\n",
      "IVR             0.779              0.030             0.588\n",
      "JUNCTIONAL      0.782              0.030             0.595\n",
      "NOISE           0.802              0.031             0.634\n",
      "SINUS           0.849              0.237             0.936\n",
      "SVT             0.738              0.023             0.500\n",
      "TRIGEMINY       0.927              0.003             0.857\n",
      "VT              0.932              0.019             0.882\n",
      "WENCKEBACH      0.858              0.026             0.742\n"
     ]
    },
    {
     "name": "stderr",
     "output_type": "stream",
     "text": [
      " 25%|██▌       | 3/12 [00:00<00:00, 27.74it/s]"
     ]
    },
    {
     "name": "stdout",
     "output_type": "stream",
     "text": [
      "\n",
      "===Metric== seq\n",
      "===Model=== Human Performance with review 2\n",
      "\n",
      "             precision    recall  f1-score   support\n",
      "\n",
      "         AF      0.730     0.767     0.748      1011\n",
      "        AVB      0.817     0.740     0.777       851\n",
      "   BIGEMINY      0.737     0.884     0.804       216\n",
      "        EAR      0.627     0.387     0.478       256\n",
      "        IVR      0.751     0.836     0.791       195\n",
      " JUNCTIONAL      0.864     0.702     0.774       570\n",
      "      NOISE      0.934     0.729     0.819       605\n",
      "      SINUS      0.824     0.888     0.854      3034\n",
      "        SVT      0.579     0.617     0.597       308\n",
      "  TRIGEMINY      0.851     0.749     0.797       251\n",
      "         VT      0.597     0.851     0.702        47\n",
      " WENCKEBACH      0.574     0.659     0.613       384\n",
      "\n",
      "avg / total      0.789     0.785     0.783      7728\n",
      "\n"
     ]
    },
    {
     "name": "stderr",
     "output_type": "stream",
     "text": [
      "100%|██████████| 12/12 [00:00<00:00, 27.60it/s]\n",
      "100%|██████████| 12/12 [00:00<00:00, 367.13it/s]\n"
     ]
    },
    {
     "name": "stdout",
     "output_type": "stream",
     "text": [
      "\n",
      "===Metric== seq\n",
      "===Model=== Human Performance with review 2\n",
      "\n",
      "c_name        roc_auc    false_pos_rates    true_pos_rates\n",
      "----------  ---------  -----------------  ----------------\n",
      "AF              0.862              0.043             0.767\n",
      "AVB             0.860              0.021             0.740\n",
      "BIGEMINY        0.938              0.009             0.884\n",
      "EAR             0.689              0.008             0.387\n",
      "IVR             0.914              0.007             0.836\n",
      "JUNCTIONAL      0.846              0.009             0.702\n",
      "NOISE           0.862              0.004             0.729\n",
      "SINUS           0.882              0.123             0.888\n",
      "SVT             0.799              0.019             0.617\n",
      "TRIGEMINY       0.872              0.004             0.749\n",
      "VT              0.924              0.004             0.851\n",
      "WENCKEBACH      0.817              0.026             0.659\n",
      "\n",
      "===Metric== set\n",
      "===Model=== Human Performance with review 2\n",
      "\n",
      "             precision    recall  f1-score   support\n",
      "\n",
      "         AF      0.759     0.721     0.739        61\n",
      "        AVB      0.792     0.731     0.760        52\n",
      "   BIGEMINY      0.833     0.909     0.870        22\n",
      "        EAR      0.722     0.591     0.650        22\n",
      "        IVR      0.784     0.853     0.817        34\n",
      " JUNCTIONAL      0.824     0.757     0.789        37\n",
      "      NOISE      0.929     0.634     0.754        41\n",
      "      SINUS      0.904     0.908     0.906       218\n",
      "        SVT      0.632     0.706     0.667        34\n",
      "  TRIGEMINY      0.850     0.810     0.829        21\n",
      "         VT      0.762     0.941     0.842        17\n",
      " WENCKEBACH      0.758     0.806     0.781        31\n",
      "\n",
      "avg / total      0.830     0.810     0.817       590\n",
      "\n",
      "\n",
      "===Metric== set\n",
      "===Model=== Human Performance with review 2\n",
      "\n",
      "c_name        roc_auc    false_pos_rates    true_pos_rates\n",
      "----------  ---------  -----------------  ----------------\n",
      "AF              0.835              0.051             0.721\n",
      "AVB             0.848              0.035             0.731\n",
      "BIGEMINY        0.948              0.013             0.909\n",
      "EAR             0.787              0.016             0.591\n",
      "IVR             0.913              0.026             0.853\n",
      "JUNCTIONAL      0.868              0.020             0.757\n",
      "NOISE           0.814              0.007             0.634\n",
      "SINUS           0.865              0.178             0.908\n",
      "SVT             0.830              0.046             0.706\n",
      "TRIGEMINY       0.900              0.010             0.810\n",
      "VT              0.963              0.016             0.941\n",
      "WENCKEBACH      0.890              0.026             0.806\n"
     ]
    },
    {
     "name": "stderr",
     "output_type": "stream",
     "text": [
      " 25%|██▌       | 3/12 [00:00<00:00, 27.46it/s]"
     ]
    },
    {
     "name": "stdout",
     "output_type": "stream",
     "text": [
      "\n",
      "===Metric== seq\n",
      "===Model=== Human Performance with review 3\n",
      "\n",
      "             precision    recall  f1-score   support\n",
      "\n",
      "         AF      0.635     0.733     0.680      1011\n",
      "        AVB      0.764     0.720     0.742       851\n",
      "   BIGEMINY      0.783     0.870     0.825       216\n",
      "        EAR      0.754     0.406     0.528       256\n",
      "        IVR      0.835     0.544     0.658       195\n",
      " JUNCTIONAL      0.772     0.658     0.710       570\n",
      "      NOISE      0.770     0.807     0.788       605\n",
      "      SINUS      0.804     0.900     0.850      3034\n",
      "        SVT      0.336     0.305     0.320       308\n",
      "  TRIGEMINY      0.795     0.665     0.725       251\n",
      "         VT      0.288     0.319     0.303        47\n",
      " WENCKEBACH      0.713     0.362     0.480       384\n",
      "\n",
      "avg / total      0.744     0.746     0.737      7728\n",
      "\n"
     ]
    },
    {
     "name": "stderr",
     "output_type": "stream",
     "text": [
      "100%|██████████| 12/12 [00:00<00:00, 27.37it/s]\n",
      "100%|██████████| 12/12 [00:00<00:00, 366.28it/s]\n"
     ]
    },
    {
     "name": "stdout",
     "output_type": "stream",
     "text": [
      "\n",
      "===Metric== seq\n",
      "===Model=== Human Performance with review 3\n",
      "\n",
      "c_name        roc_auc    false_pos_rates    true_pos_rates\n",
      "----------  ---------  -----------------  ----------------\n",
      "AF              0.835              0.063             0.733\n",
      "AVB             0.846              0.027             0.720\n",
      "BIGEMINY        0.932              0.007             0.870\n",
      "EAR             0.701              0.005             0.406\n",
      "IVR             0.770              0.003             0.544\n",
      "JUNCTIONAL      0.821              0.016             0.658\n",
      "NOISE           0.893              0.020             0.807\n",
      "SINUS           0.879              0.142             0.900\n",
      "SVT             0.640              0.025             0.305\n",
      "TRIGEMINY       0.830              0.006             0.665\n",
      "VT              0.657              0.005             0.319\n",
      "WENCKEBACH      0.677              0.008             0.362\n",
      "\n",
      "===Metric== set\n",
      "===Model=== Human Performance with review 3\n",
      "\n",
      "             precision    recall  f1-score   support\n",
      "\n",
      "         AF      0.662     0.705     0.683        61\n",
      "        AVB      0.766     0.692     0.727        52\n",
      "   BIGEMINY      0.857     0.818     0.837        22\n",
      "        EAR      0.692     0.409     0.514        22\n",
      "        IVR      0.870     0.588     0.702        34\n",
      " JUNCTIONAL      0.703     0.703     0.703        37\n",
      "      NOISE      0.638     0.732     0.682        41\n",
      "      SINUS      0.866     0.945     0.904       218\n",
      "        SVT      0.483     0.412     0.444        34\n",
      "  TRIGEMINY      0.750     0.571     0.649        21\n",
      "         VT      0.667     0.588     0.625        17\n",
      " WENCKEBACH      0.800     0.516     0.627        31\n",
      "\n",
      "avg / total      0.768     0.746     0.750       590\n",
      "\n",
      "\n",
      "===Metric== set\n",
      "===Model=== Human Performance with review 3\n",
      "\n",
      "c_name        roc_auc    false_pos_rates    true_pos_rates\n",
      "----------  ---------  -----------------  ----------------\n",
      "AF              0.812              0.080             0.705\n",
      "AVB             0.827              0.039             0.692\n",
      "BIGEMINY        0.904              0.010             0.818\n",
      "EAR             0.698              0.013             0.409\n",
      "IVR             0.789              0.010             0.588\n",
      "JUNCTIONAL      0.833              0.037             0.703\n",
      "NOISE           0.837              0.058             0.732\n",
      "SINUS           0.837              0.271             0.945\n",
      "SVT             0.681              0.050             0.412\n",
      "TRIGEMINY       0.779              0.013             0.571\n",
      "VT              0.786              0.016             0.588\n",
      "WENCKEBACH      0.752              0.013             0.516\n"
     ]
    },
    {
     "name": "stderr",
     "output_type": "stream",
     "text": [
      " 25%|██▌       | 3/12 [00:00<00:00, 27.41it/s]"
     ]
    },
    {
     "name": "stdout",
     "output_type": "stream",
     "text": [
      "\n",
      "===Metric== seq\n",
      "===Model=== Human Performance with review 4\n",
      "\n",
      "             precision    recall  f1-score   support\n",
      "\n",
      "         AF      0.538     0.674     0.598      1011\n",
      "        AVB      0.807     0.724     0.763       851\n",
      "   BIGEMINY      0.962     0.699     0.810       216\n",
      "        EAR      0.683     0.445     0.539       256\n",
      "        IVR      0.683     0.441     0.536       195\n",
      " JUNCTIONAL      0.757     0.509     0.609       570\n",
      "      NOISE      0.872     0.731     0.795       605\n",
      "      SINUS      0.744     0.901     0.815      3034\n",
      "        SVT      0.563     0.406     0.472       308\n",
      "  TRIGEMINY      0.905     0.833     0.867       251\n",
      "         VT      0.714     0.426     0.533        47\n",
      " WENCKEBACH      0.888     0.474     0.618       384\n",
      "\n",
      "avg / total      0.743     0.731     0.725      7728\n",
      "\n"
     ]
    },
    {
     "name": "stderr",
     "output_type": "stream",
     "text": [
      "100%|██████████| 12/12 [00:00<00:00, 27.45it/s]\n",
      "100%|██████████| 12/12 [00:00<00:00, 369.68it/s]\n"
     ]
    },
    {
     "name": "stdout",
     "output_type": "stream",
     "text": [
      "\n",
      "===Metric== seq\n",
      "===Model=== Human Performance with review 4\n",
      "\n",
      "c_name        roc_auc    false_pos_rates    true_pos_rates\n",
      "----------  ---------  -----------------  ----------------\n",
      "AF              0.793              0.087             0.674\n",
      "AVB             0.851              0.021             0.724\n",
      "BIGEMINY        0.849              0.001             0.699\n",
      "EAR             0.719              0.007             0.445\n",
      "IVR             0.718              0.005             0.441\n",
      "JUNCTIONAL      0.748              0.013             0.509\n",
      "NOISE           0.861              0.009             0.731\n",
      "SINUS           0.851              0.200             0.901\n",
      "SVT             0.696              0.013             0.406\n",
      "TRIGEMINY       0.915              0.003             0.833\n",
      "VT              0.712              0.001             0.426\n",
      "WENCKEBACH      0.735              0.003             0.474\n",
      "\n",
      "===Metric== set\n",
      "===Model=== Human Performance with review 4\n",
      "\n",
      "             precision    recall  f1-score   support\n",
      "\n",
      "         AF      0.573     0.705     0.632        61\n",
      "        AVB      0.780     0.750     0.765        52\n",
      "   BIGEMINY      1.000     0.545     0.706        22\n",
      "        EAR      0.647     0.500     0.564        22\n",
      "        IVR      0.850     0.500     0.630        34\n",
      " JUNCTIONAL      0.667     0.486     0.562        37\n",
      "      NOISE      0.839     0.634     0.722        41\n",
      "      SINUS      0.860     0.931     0.894       218\n",
      "        SVT      0.654     0.500     0.567        34\n",
      "  TRIGEMINY      0.882     0.714     0.789        21\n",
      "         VT      0.909     0.588     0.714        17\n",
      " WENCKEBACH      1.000     0.645     0.784        31\n",
      "\n",
      "avg / total      0.804     0.731     0.755       590\n",
      "\n",
      "\n",
      "===Metric== set\n",
      "===Model=== Human Performance with review 4\n",
      "\n",
      "c_name        roc_auc    false_pos_rates    true_pos_rates\n",
      "----------  ---------  -----------------  ----------------\n",
      "AF              0.794              0.116             0.705\n",
      "AVB             0.856              0.039             0.750\n",
      "BIGEMINY        0.773              0.000             0.545\n",
      "EAR             0.740              0.019             0.500\n",
      "IVR             0.745              0.010             0.500\n",
      "JUNCTIONAL      0.728              0.030             0.486\n",
      "NOISE           0.809              0.017             0.634\n",
      "SINUS           0.826              0.280             0.931\n",
      "SVT             0.735              0.030             0.500\n",
      "TRIGEMINY       0.854              0.006             0.714\n",
      "VT              0.793              0.003             0.588\n",
      "WENCKEBACH      0.823              0.000             0.645\n"
     ]
    },
    {
     "name": "stderr",
     "output_type": "stream",
     "text": [
      " 25%|██▌       | 3/12 [00:00<00:00, 26.91it/s]"
     ]
    },
    {
     "name": "stdout",
     "output_type": "stream",
     "text": [
      "\n",
      "===Metric== seq\n",
      "===Model=== Human Performance with review 5\n",
      "\n",
      "             precision    recall  f1-score   support\n",
      "\n",
      "         AF      0.600     0.724     0.657      1011\n",
      "        AVB      0.835     0.825     0.830       851\n",
      "   BIGEMINY      0.889     0.889     0.889       216\n",
      "        EAR      0.749     0.547     0.632       256\n",
      "        IVR      0.550     0.595     0.571       195\n",
      " JUNCTIONAL      0.737     0.674     0.704       570\n",
      "      NOISE      0.652     0.694     0.673       605\n",
      "      SINUS      0.877     0.872     0.875      3034\n",
      "        SVT      0.473     0.419     0.444       308\n",
      "  TRIGEMINY      0.830     0.912     0.869       251\n",
      "         VT      0.660     0.702     0.680        47\n",
      " WENCKEBACH      0.802     0.570     0.667       384\n",
      "\n",
      "avg / total      0.773     0.769     0.769      7728\n",
      "\n"
     ]
    },
    {
     "name": "stderr",
     "output_type": "stream",
     "text": [
      "100%|██████████| 12/12 [00:00<00:00, 26.73it/s]\n",
      "100%|██████████| 12/12 [00:00<00:00, 366.63it/s]"
     ]
    },
    {
     "name": "stdout",
     "output_type": "stream",
     "text": [
      "\n",
      "===Metric== seq\n",
      "===Model=== Human Performance with review 5\n",
      "\n",
      "c_name        roc_auc    false_pos_rates    true_pos_rates\n",
      "----------  ---------  -----------------  ----------------\n",
      "AF              0.826              0.073             0.724\n",
      "AVB             0.902              0.020             0.825\n",
      "BIGEMINY        0.943              0.003             0.889\n",
      "EAR             0.770              0.006             0.547\n",
      "IVR             0.791              0.013             0.595\n",
      "JUNCTIONAL      0.827              0.019             0.674\n",
      "NOISE           0.831              0.031             0.694\n",
      "SINUS           0.897              0.079             0.872\n",
      "SVT             0.700              0.019             0.419\n",
      "TRIGEMINY       0.953              0.006             0.912\n",
      "VT              0.850              0.002             0.702\n",
      "WENCKEBACH      0.781              0.007             0.570\n",
      "\n",
      "===Metric== set\n",
      "===Model=== Human Performance with review 5\n",
      "\n",
      "             precision    recall  f1-score   support\n",
      "\n",
      "         AF      0.558     0.705     0.623        61\n",
      "        AVB      0.818     0.865     0.841        52\n",
      "   BIGEMINY      0.950     0.864     0.905        22\n",
      "        EAR      0.857     0.545     0.667        22\n",
      "        IVR      0.724     0.618     0.667        34\n",
      " JUNCTIONAL      0.667     0.703     0.684        37\n",
      "      NOISE      0.565     0.634     0.598        41\n",
      "      SINUS      0.880     0.945     0.912       218\n",
      "        SVT      0.571     0.471     0.516        34\n",
      "  TRIGEMINY      0.826     0.905     0.864        21\n",
      "         VT      0.812     0.765     0.788        17\n",
      " WENCKEBACH      0.893     0.806     0.847        31\n",
      "\n",
      "avg / total      0.778     0.798     0.785       590\n",
      "\n",
      "\n",
      "===Metric== set\n",
      "===Model=== Human Performance with review 5\n",
      "\n",
      "c_name        roc_auc    false_pos_rates    true_pos_rates\n",
      "----------  ---------  -----------------  ----------------\n",
      "AF              0.791              0.124             0.705\n",
      "AVB             0.915              0.035             0.865\n",
      "BIGEMINY        0.930              0.003             0.864\n",
      "EAR             0.770              0.006             0.545\n",
      "IVR             0.796              0.026             0.618\n",
      "JUNCTIONAL      0.830              0.043             0.703\n",
      "NOISE           0.783              0.068             0.634\n",
      "SINUS           0.854              0.237             0.945\n",
      "SVT             0.715              0.040             0.471\n",
      "TRIGEMINY       0.946              0.013             0.905\n",
      "VT              0.878              0.009             0.765\n",
      "WENCKEBACH      0.898              0.010             0.806\n"
     ]
    },
    {
     "name": "stderr",
     "output_type": "stream",
     "text": [
      "\n"
     ]
    }
   ],
   "source": [
    "prediction_folder = \"/deep/u/pranavsr/saved/predictions/1503713063/\"\n",
    "x, gt, probs, processor = predict.load_predictions(prediction_folder)\n",
    "params = json.load(open(\"../configs/test.json\"))\n",
    "params['data_path'] = \"../data/label_review/CARDIOL_MAY_2017/\"\n",
    "hgt, h_probs = human_performance.human_gt_and_probs(params, x, gt, processor, review_indiv=True);"
   ]
  },
  {
   "cell_type": "code",
   "execution_count": 4,
   "metadata": {
    "collapsed": false
   },
   "outputs": [],
   "source": [
    "preds = np.argmax(probs, axis=2)\n",
    "ground_truth = gt.squeeze()\n",
    "h_ground_truth = hgt.squeeze()\n",
    "h_preds = np.argmax(h_probs, axis=2)"
   ]
  },
  {
   "cell_type": "code",
   "execution_count": 5,
   "metadata": {
    "collapsed": false
   },
   "outputs": [],
   "source": [
    "def stats(ground_truth, preds):\n",
    "    g = ground_truth.ravel()\n",
    "    p = preds.ravel()\n",
    "    labels = set(g)\n",
    "    stat_dict = {}\n",
    "    for i in labels:\n",
    "        # compute all the stats for each label\n",
    "        tp = np.sum(g[g==i] == p[g==i])\n",
    "        fp = np.sum(g[p==i] != p[p==i])\n",
    "        fn = np.sum(g==i) - tp\n",
    "        tn = np.sum(g!=i) - fp\n",
    "        stat_dict[i] = (tp, fp, fn, tn)\n",
    "    return stat_dict\n",
    "\n",
    "def print_results(sd):\n",
    "    print \"\\t\\tPrecision  Recall     Specificity     NPV\"\n",
    "    for k, v in sd.items():\n",
    "        if len(v) == 5:\n",
    "            thresh, tp, fp, fn, tn = v\n",
    "        else:\n",
    "            tp, fp, fn, tn = v\n",
    "            thresh = None\n",
    "        precision = tp / float(tp + fp)\n",
    "        recall = tp / float(tp + fn)\n",
    "        specificity = tn / float(tn + fp)\n",
    "        npv = tn / float(tn + fn)\n",
    "        if thresh is None:\n",
    "            print \"{:>10} {:10.3f} {:10.3f} {:10.3f} {:15.3f}\".format(processor.classes[k], precision, recall, specificity, npv)\n",
    "        else:\n",
    "            print \"{:>10}{:10.6f} {:10.3f} {:10.3f} {:10.3f} {:15.3f}\".format(processor.classes[k], thresh, precision, recall, specificity, npv)"
   ]
  },
  {
   "cell_type": "code",
   "execution_count": 73,
   "metadata": {
    "collapsed": false
   },
   "outputs": [
    {
     "name": "stdout",
     "output_type": "stream",
     "text": [
      "\t\tPrecision  Recall     Specificity     NPV\n",
      "        AF      0.785      0.820      0.966           0.973\n",
      "       AVB      0.835      0.866      0.979           0.983\n",
      "  BIGEMINY      0.913      0.880      0.998           0.997\n",
      "       EAR      0.602      0.484      0.989           0.982\n",
      "       IVR      0.827      0.687      0.996           0.992\n",
      "JUNCTIONAL      0.851      0.512      0.993           0.962\n",
      "     NOISE      0.972      0.759      0.998           0.980\n",
      "     SINUS      0.839      0.937      0.884           0.956\n",
      "       SVT      0.556      0.390      0.987           0.975\n",
      " TRIGEMINY      0.851      0.976      0.994           0.999\n",
      "        VT      0.379      0.830      0.992           0.999\n",
      "WENCKEBACH      0.697      0.732      0.983           0.986\n"
     ]
    }
   ],
   "source": [
    "print \"Model Sequence-Level\"\n",
    "print_results(stats(ground_truth, preds))"
   ]
  },
  {
   "cell_type": "code",
   "execution_count": 6,
   "metadata": {
    "collapsed": false
   },
   "outputs": [
    {
     "name": "stdout",
     "output_type": "stream",
     "text": [
      "Cardiologist Sequence-Level\n",
      "\t\tPrecision  Recall     Specificity     NPV\n",
      "        AF      0.648      0.712      0.942           0.956\n",
      "       AVB      0.813      0.731      0.979           0.967\n",
      "  BIGEMINY      0.845      0.829      0.996           0.995\n",
      "       EAR      0.636      0.380      0.993           0.979\n",
      "       IVR      0.654      0.611      0.992           0.990\n",
      "JUNCTIONAL      0.757      0.624      0.984           0.970\n",
      "     NOISE      0.788      0.749      0.983           0.979\n",
      "     SINUS      0.803      0.898      0.857           0.928\n",
      "       SVT      0.500      0.408      0.983           0.976\n",
      " TRIGEMINY      0.859      0.828      0.995           0.994\n",
      "        VT      0.500      0.652      0.996           0.998\n",
      "WENCKEBACH      0.661      0.539      0.986           0.976\n"
     ]
    }
   ],
   "source": [
    "print \"Cardiologist Sequence-Level\"\n",
    "print_results(stats(h_ground_truth, h_preds))"
   ]
  },
  {
   "cell_type": "markdown",
   "metadata": {
    "collapsed": true
   },
   "source": [
    "### Now we look at the \"Binarized\" Sensitivity and Specificity"
   ]
  },
  {
   "cell_type": "code",
   "execution_count": 5,
   "metadata": {
    "collapsed": false
   },
   "outputs": [],
   "source": [
    "def binarized_stats(ground_truth, probs, thresh=0.5):\n",
    "    g = ground_truth.ravel()\n",
    "    p = probs.reshape(-1, 12)\n",
    "    labels = set(g)\n",
    "    stat_dict = {}\n",
    "    for i in labels:\n",
    "        pp = p[:,i]\n",
    "        pp = pp > thresh\n",
    "        gg = g == i\n",
    "        # compute all the stats for each label\n",
    "        tp = np.sum(pp[gg==1] == gg[gg==1])\n",
    "        fp = np.sum(pp[pp==1] != gg[pp==1])\n",
    "        fn = np.sum(gg) - tp\n",
    "        tn = np.sum(gg==0) - fp\n",
    "        stat_dict[i] = (tp, fp, fn, tn)\n",
    "    return stat_dict"
   ]
  },
  {
   "cell_type": "code",
   "execution_count": 51,
   "metadata": {
    "collapsed": false
   },
   "outputs": [
    {
     "name": "stdout",
     "output_type": "stream",
     "text": [
      "\t\tPrecision  Recall     Specificity     NPV\n",
      "        AF      0.795      0.819      0.968           0.973\n",
      "       AVB      0.842      0.861      0.980           0.983\n",
      "  BIGEMINY      0.912      0.866      0.998           0.996\n",
      "       EAR      0.628      0.480      0.990           0.982\n",
      "       IVR      0.868      0.641      0.997           0.991\n",
      "JUNCTIONAL      0.870      0.481      0.994           0.960\n",
      "     NOISE      0.979      0.755      0.999           0.980\n",
      "     SINUS      0.855      0.936      0.897           0.956\n",
      "       SVT      0.585      0.370      0.989           0.974\n",
      " TRIGEMINY      0.854      0.976      0.994           0.999\n",
      "        VT      0.394      0.830      0.992           0.999\n",
      "WENCKEBACH      0.694      0.703      0.984           0.984\n"
     ]
    }
   ],
   "source": [
    "print_results(binarized_stats(ground_truth, probs, thresh=0.5))"
   ]
  },
  {
   "cell_type": "code",
   "execution_count": 53,
   "metadata": {
    "collapsed": false
   },
   "outputs": [
    {
     "name": "stdout",
     "output_type": "stream",
     "text": [
      "\t\tPrecision  Recall     Specificity     NPV\n",
      "        AF      0.685      0.848      0.941           0.976\n",
      "       AVB      0.732      0.907      0.959           0.988\n",
      "  BIGEMINY      0.860      0.940      0.996           0.998\n",
      "       EAR      0.368      0.637      0.963           0.987\n",
      "       IVR      0.737      0.821      0.992           0.995\n",
      "JUNCTIONAL      0.775      0.779      0.982           0.982\n",
      "     NOISE      0.828      0.845      0.985           0.987\n",
      "     SINUS      0.715      0.977      0.748           0.980\n",
      "       SVT      0.526      0.734      0.973           0.989\n",
      " TRIGEMINY      0.794      0.980      0.991           0.999\n",
      "        VT      0.220      0.936      0.980           1.000\n",
      "WENCKEBACH      0.537      0.878      0.960           0.993\n"
     ]
    }
   ],
   "source": [
    "print_results(binarized_stats(ground_truth, probs, thresh=0.1))"
   ]
  },
  {
   "cell_type": "markdown",
   "metadata": {
    "collapsed": true
   },
   "source": [
    "### Compute inter-annotator agreement.\n",
    "We use the same method as the diabetic retinopathy paper. The number of pair-wise agreements over the total number of pairwise comparisons."
   ]
  },
  {
   "cell_type": "code",
   "execution_count": 8,
   "metadata": {
    "collapsed": false
   },
   "outputs": [
    {
     "name": "stdout",
     "output_type": "stream",
     "text": [
      "84418 115920 0.728243616287\n"
     ]
    }
   ],
   "source": [
    "corr = 0\n",
    "tot = 0\n",
    "n_revs = 6\n",
    "splits = np.split(h_preds, n_revs, axis=0)\n",
    "for i in range(n_revs):\n",
    "    for j in range(i+1, n_revs):\n",
    "        c = np.sum(splits[i] == splits[j])\n",
    "        t = splits[i].size\n",
    "        #print c, t\n",
    "        corr += c\n",
    "        tot += t\n",
    "print corr, tot, corr / float(tot)"
   ]
  },
  {
   "cell_type": "markdown",
   "metadata": {},
   "source": [
    "### Comput max sens at spec > 0.9 and vice versa"
   ]
  },
  {
   "cell_type": "code",
   "execution_count": 11,
   "metadata": {
    "collapsed": true
   },
   "outputs": [],
   "source": [
    "def binarized_stats_vary_thresh(ground_truth, probs):\n",
    "    g = ground_truth.ravel()\n",
    "    p = probs.reshape(-1, 12)\n",
    "    stat_dict = {}\n",
    "    specs = [0.942, 0.979, 0.996, 0.993, 0.992, 0.984, 0.983, 0.857, 0.983, 0.995, 0.996, 0.986]\n",
    "    for i, min_spec in zip(range(12), specs):\n",
    "        pn = p[:,i]\n",
    "        gg = g == i\n",
    "        ranges = [0, 1]\n",
    "        thresh = 0.5\n",
    "        for _ in range(1000):\n",
    "            pp = pn > thresh\n",
    "            # compute all the stats for each label\n",
    "            tp = np.sum(pp[gg==1] == gg[gg==1])\n",
    "            fp = np.sum(pp[pp==1] != gg[pp==1])\n",
    "            fn = np.sum(gg) - tp\n",
    "            tn = np.sum(gg==0) - fp\n",
    "            sens = tp / float(tp + fn)\n",
    "            spec = tn / float(tn + fp)\n",
    "#            if sens < 0.8995:\n",
    "#                ranges[1] = thresh\n",
    "#                thresh = (thresh + ranges[0]) / 2.0\n",
    "#            if sens > 0.8995:\n",
    "#                ranges[0] = thresh\n",
    "#                thresh = (ranges[1] + thresh) / 2.0\n",
    "            if spec >= min_spec:\n",
    "                ranges[1] = thresh\n",
    "                thresh = (thresh + ranges[0]) / 2.0\n",
    "            if spec < min_spec:\n",
    "                ranges[0] = thresh\n",
    "                thresh = (ranges[1] + thresh) / 2.0\n",
    "\n",
    "        stat_dict[i] = (tp, fp, fn, tn)\n",
    "    return stat_dict"
   ]
  },
  {
   "cell_type": "code",
   "execution_count": 12,
   "metadata": {
    "collapsed": false
   },
   "outputs": [
    {
     "name": "stdout",
     "output_type": "stream",
     "text": [
      "\t\tPrecision  Recall     Specificity     NPV\n",
      "        AF      0.687      0.848      0.942           0.976\n",
      "       AVB      0.837      0.866      0.979           0.983\n",
      "  BIGEMINY      0.871      0.940      0.996           0.998\n",
      "       EAR      0.701      0.477      0.993           0.982\n",
      "       IVR      0.735      0.851      0.992           0.996\n",
      "JUNCTIONAL      0.789      0.754      0.984           0.981\n",
      "     NOISE      0.808      0.848      0.983           0.987\n",
      "     SINUS      0.811      0.949      0.857           0.963\n",
      "       SVT      0.584      0.578      0.983           0.982\n",
      " TRIGEMINY      0.868      0.968      0.995           0.999\n",
      "        VT      0.500      0.638      0.996           0.998\n",
      "WENCKEBACH      0.703      0.628      0.986           0.981\n"
     ]
    }
   ],
   "source": [
    "stats = binarized_stats_vary_thresh(ground_truth, probs)\n",
    "print_results(stats)"
   ]
  },
  {
   "cell_type": "code",
   "execution_count": null,
   "metadata": {
    "collapsed": true
   },
   "outputs": [],
   "source": []
  }
 ],
 "metadata": {
  "kernelspec": {
   "display_name": "Python 2",
   "language": "python",
   "name": "python2"
  },
  "language_info": {
   "codemirror_mode": {
    "name": "ipython",
    "version": 2
   },
   "file_extension": ".py",
   "mimetype": "text/x-python",
   "name": "python",
   "nbconvert_exporter": "python",
   "pygments_lexer": "ipython2",
   "version": "2.7.6"
  }
 },
 "nbformat": 4,
 "nbformat_minor": 1
}
