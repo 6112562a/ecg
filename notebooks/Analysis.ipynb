{
 "cells": [
  {
   "cell_type": "code",
   "execution_count": null,
   "metadata": {
    "collapsed": false
   },
   "outputs": [],
   "source": [
    "%load_ext autoreload\n",
    "%matplotlib notebook\n",
    "import matplotlib.pyplot as plt\n",
    "plt.rcParams[\"figure.figsize\"] = (9, 6)\n",
    "import pywt\n",
    "import random\n",
    "import numpy as np\n",
    "import sys\n",
    "sys.path.append('../ecg')"
   ]
  },
  {
   "cell_type": "markdown",
   "metadata": {},
   "source": [
    "## Loading Data"
   ]
  },
  {
   "cell_type": "code",
   "execution_count": null,
   "metadata": {
    "collapsed": false
   },
   "outputs": [],
   "source": [
    "LOAD_FROM_FILE = False\n",
    "LOAD_FROM_MODEL = True\n",
    "model_path = \"../saved/3.1/1485643942/0.317-0.908-033-0.222-0.927.hdf5\"\n",
    "\n",
    "import load\n",
    "import json\n",
    "import util\n",
    "\n",
    "args = util.get_object_from_dict(data_path=\"../data\")\n",
    "\n",
    "if LOAD_FROM_FILE is True:\n",
    "    params = json.load(open('../configs/vanilla_load.json', 'r'))\n",
    "elif LOAD_FROM_MODEL is True:\n",
    "    params = util.get_model_params(model_path)\n",
    "else:\n",
    "    params = {\"step\": 128, \"toy\": True}\n",
    "    \n",
    "dl = load.load(args, params)\n",
    "print(dl.class_to_int)"
   ]
  },
  {
   "cell_type": "code",
   "execution_count": null,
   "metadata": {
    "collapsed": false
   },
   "outputs": [],
   "source": [
    "predictions = np.load(open(util.get_prediction_path_for_model(model_path, 'test'), 'rb'))"
   ]
  },
  {
   "cell_type": "code",
   "execution_count": null,
   "metadata": {
    "collapsed": false
   },
   "outputs": [],
   "source": [
    "x = dl.x_test\n",
    "y = dl.y_test\n",
    "\n",
    "def from_one_hot_to_int(label):\n",
    "    return np.argmax(label, axis=-1)\n",
    "\n",
    "def get_x_y_predictions_at_index(index):\n",
    "    x_sample = x[index]\n",
    "    y_sample = from_one_hot_to_int(y[index])\n",
    "    y_prediction = np.argmax(predictions[index], axis=-1)\n",
    "    return x_sample, y_sample, y_prediction\n",
    "\n",
    "def get_sample_from_class(category_name, min_mistakes = 20, num_tries = 1000):\n",
    "    class_needed = dl.class_to_int[category_name]\n",
    "    indices = np.where(np.sum(np.argmax(y, axis=-1) == class_needed, axis=1) > 0)[0]\n",
    "    for _ in range(num_tries):\n",
    "        index = random.choice(indices)\n",
    "        x_sample, y_sample, y_prediction = get_x_y_predictions_at_index(index)\n",
    "        num_wrong = np.sum(y_sample != y_prediction)\n",
    "        if (num_wrong > min_mistakes):\n",
    "            break\n",
    "    return x_sample, y_sample, y_prediction, num_wrong\n",
    "\n",
    "x_sample, y_sample, y_prediction, num_wrong = get_sample_from_class(u'JUNCTIONAL')\n",
    "print(\"Prediction got wrong \" +  str(num_wrong * 1.0 / len(y_sample)))"
   ]
  },
  {
   "cell_type": "code",
   "execution_count": null,
   "metadata": {
    "collapsed": false
   },
   "outputs": [],
   "source": [
    "import matplotlib.cm as cm\n",
    "\n",
    "def from_int_to_name(l):\n",
    "    return dl.classes[l]\n",
    "\n",
    "def draw_sample(x_sample, y_sample, y_prediction):\n",
    "    colors = cm.rainbow(np.linspace(0, 1, 20))\n",
    "    y_times = np.linspace(0, len(x_sample), len(y_sample))\n",
    "    for y_chosen in [y_sample]:\n",
    "        for y_uniq in np.unique(y_chosen):\n",
    "            plt.vlines(\n",
    "                y_times[y_chosen == y_uniq],\n",
    "                min(x_sample),\n",
    "                max(x_sample),\n",
    "                label=from_int_to_name(y_uniq),\n",
    "                color=colors[y_uniq],\n",
    "                alpha=1\n",
    "            )\n",
    "        y_times += 20\n",
    "    print(np.array(dl.classes)[y_sample])\n",
    "    print(np.array(dl.classes)[y_prediction])\n",
    "    plt.plot(x_sample, color='#999999', alpha=1)\n",
    "    plt.legend()\n",
    "    plt.show()\n",
    "\n",
    "\n",
    "draw_sample(x_sample, y_sample, y_prediction)"
   ]
  },
  {
   "cell_type": "code",
   "execution_count": null,
   "metadata": {
    "collapsed": true
   },
   "outputs": [],
   "source": []
  }
 ],
 "metadata": {
  "kernelspec": {
   "display_name": "Python 2",
   "language": "python",
   "name": "python2"
  },
  "language_info": {
   "codemirror_mode": {
    "name": "ipython",
    "version": 2
   },
   "file_extension": ".py",
   "mimetype": "text/x-python",
   "name": "python",
   "nbconvert_exporter": "python",
   "pygments_lexer": "ipython2",
   "version": "2.7.10"
  }
 },
 "nbformat": 4,
 "nbformat_minor": 2
}
