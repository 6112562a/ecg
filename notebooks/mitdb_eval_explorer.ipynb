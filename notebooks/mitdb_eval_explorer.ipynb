{
 "cells": [
  {
   "cell_type": "code",
   "execution_count": 7,
   "metadata": {
    "collapsed": false
   },
   "outputs": [],
   "source": [
    "import matplotlib.pyplot as plt\n",
    "import numpy as np\n",
    "import os\n",
    "import json\n",
    "import sys\n",
    "%matplotlib inline"
   ]
  },
  {
   "cell_type": "code",
   "execution_count": 5,
   "metadata": {
    "collapsed": false
   },
   "outputs": [],
   "source": [
    "MODEL_PATH = \"/deep/group/awni/ecg_models/rnn_test/\"\n",
    "ECG_PATH = \"/afs/cs.stanford.edu/u/awni/scr/ecg\"\n",
    "sys.path.append(ECG_PATH)"
   ]
  },
  {
   "cell_type": "code",
   "execution_count": 9,
   "metadata": {
    "collapsed": false
   },
   "outputs": [],
   "source": [
    "import loader\n",
    "import eval\n",
    "\n",
    "config_file = os.path.join(MODEL_PATH, \"config.json\")\n",
    "with open(config_file, 'r') as fid:\n",
    "    config = json.load(fid)\n",
    "\n",
    "data_loader = loader.Loader(config['data']['path'], 1)\n",
    "evaler = eval.Evaler(MODEL_PATH)"
   ]
  },
  {
   "cell_type": "code",
   "execution_count": 13,
   "metadata": {
    "collapsed": false
   },
   "outputs": [
    {
     "name": "stdout",
     "output_type": "stream",
     "text": [
      "Size of the validation set is 9466\n"
     ]
    }
   ],
   "source": [
    "print \"Size of the validation set is\", len(data_loader.valid)\n",
    "# data_loader.valid is a list of pairs. Each pair contains the wave segment in a numpy array and the label."
   ]
  },
  {
   "cell_type": "code",
   "execution_count": 26,
   "metadata": {
    "collapsed": true
   },
   "outputs": [],
   "source": [
    "incorrect = []\n",
    "correct = []\n",
    "for inputs, label in data_loader.batches(data_loader.valid):\n",
    "    prediction = evaler.predict(inputs)\n",
    "    if prediction != label:\n",
    "        incorrect.append((inputs, label, prediction))\n",
    "    else:\n",
    "        correct.append((inputs, label, prediction))"
   ]
  },
  {
   "cell_type": "code",
   "execution_count": 62,
   "metadata": {
    "collapsed": false
   },
   "outputs": [
    {
     "name": "stdout",
     "output_type": "stream",
     "text": [
      "8346 1120 9466\n"
     ]
    }
   ],
   "source": [
    "#labels = [l[0] for _, l, _ in correct]\n",
    "#print [data_loader._int_to_label[l] for l in labels]\n",
    "print len(correct), len(incorrect), len(data_loader.valid)\n",
    "def print_error_beat_type(beat=0):\n",
    "    corr = len([c for _, c, _ in correct if c[0] == beat]) # number of correct of type c\n",
    "    incorr = len([c for _, c, _ in incorrect if c[0] == beat]) # number of incorrect of type c\n",
    "    return \"{:.2f}%\".format(100 * float(corr) / (corr + incorr))"
   ]
  },
  {
   "cell_type": "code",
   "execution_count": 57,
   "metadata": {
    "collapsed": false
   },
   "outputs": [
    {
     "name": "stdout",
     "output_type": "stream",
     "text": [
      "{0: '!', 1: '\"', 2: '+', 3: '/', 4: 'A', 5: 'E', 6: 'F', 7: 'J', 8: 'L', 9: 'N', 10: 'Q', 11: 'R', 12: 'V', 13: '[', 14: ']', 15: 'a', 16: 'e', 17: 'f', 18: 'j', 19: 'x', 20: '|', 21: '~'}\n",
      "set([2, 4, 6, 7, 9, 12, 15, 18, 19, 20, 21])\n"
     ]
    }
   ],
   "source": [
    "print data_loader._int_to_label\n",
    "beats = set(c[0] for _, c, _ in correct).union(set(c[0] for _, c, _ in incorrect))\n",
    "print beats"
   ]
  },
  {
   "cell_type": "code",
   "execution_count": 64,
   "metadata": {
    "collapsed": false
   },
   "outputs": [
    {
     "name": "stdout",
     "output_type": "stream",
     "text": [
      "+ 3.77%\n",
      "A 0.00%\n",
      "F 15.38%\n",
      "J 0.00%\n",
      "N 93.17%\n",
      "V 79.61%\n",
      "a 1.03%\n",
      "j 0.00%\n",
      "x 0.00%\n",
      "| 0.00%\n",
      "~ 0.00%\n"
     ]
    }
   ],
   "source": [
    "for b in beats:\n",
    "    print data_loader._int_to_label[b], print_error_beat_type(beat=b)"
   ]
  },
  {
   "cell_type": "code",
   "execution_count": null,
   "metadata": {
    "collapsed": true
   },
   "outputs": [],
   "source": []
  }
 ],
 "metadata": {
  "kernelspec": {
   "display_name": "Python 2",
   "language": "python",
   "name": "python2"
  },
  "language_info": {
   "codemirror_mode": {
    "name": "ipython",
    "version": 2
   },
   "file_extension": ".py",
   "mimetype": "text/x-python",
   "name": "python",
   "nbconvert_exporter": "python",
   "pygments_lexer": "ipython2",
   "version": "2.7.6"
  }
 },
 "nbformat": 4,
 "nbformat_minor": 1
}
