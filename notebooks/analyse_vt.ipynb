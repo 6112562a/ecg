{
 "cells": [
  {
   "cell_type": "code",
   "execution_count": 1,
   "metadata": {
    "collapsed": true
   },
   "outputs": [],
   "source": [
    "import sys\n",
    "sys.path.append(\"/afs/cs.stanford.edu/u/awni/scr/ecg-master/ecg\")\n",
    "import predict\n",
    "import numpy as np\n",
    "import sklearn.metrics as skm\n",
    "import human_performance\n",
    "import json\n",
    "import collections"
   ]
  },
  {
   "cell_type": "code",
   "execution_count": 2,
   "metadata": {
    "collapsed": true
   },
   "outputs": [],
   "source": [
    "prediction_folder = \"/deep/u/pranavsr/saved/predictions/1503713063/\"\n",
    "x, gt, probs, processor = predict.load_predictions(prediction_folder)"
   ]
  },
  {
   "cell_type": "code",
   "execution_count": 3,
   "metadata": {
    "collapsed": false
   },
   "outputs": [
    {
     "name": "stdout",
     "output_type": "stream",
     "text": [
      "recall: 0.941176470588 precision: 0.5 F1: 0.65306122449\n",
      "Human results\n",
      "Precision 0.755 Recall 0.784 F1 0.769\n",
      "32\n",
      "0.870675176352\n"
     ]
    }
   ],
   "source": [
    "# vt idx\n",
    "idx = 10\n",
    "preds = np.argmax(probs, axis=2)\n",
    "gts = gt.squeeze()\n",
    "tps = 0; pos = 0; guessed = 0\n",
    "for e, ex in enumerate(gts):\n",
    "    pred_vt = (idx in preds[e])\n",
    "    if idx in ex:\n",
    "        pos += 1\n",
    "        if pred_vt:\n",
    "            tps += 1\n",
    "    if pred_vt:\n",
    "        guessed += 1\n",
    "recall = tps / float(pos)\n",
    "precision = tps / float(guessed)\n",
    "f1 = 2 * precision * recall / (precision + recall)\n",
    "print \"recall: {} precision: {} F1: {}\".format(recall, precision, f1)\n",
    "print \"Human results\"\n",
    "print \"Precision 0.755 Recall 0.784 F1 0.769\"\n",
    "print guessed\n",
    "print 2 * .81 * recall / (.81 + recall)"
   ]
  },
  {
   "cell_type": "code",
   "execution_count": 26,
   "metadata": {
    "collapsed": false
   },
   "outputs": [
    {
     "name": "stdout",
     "output_type": "stream",
     "text": [
      "17 [ 7  7  7  7  7  7  7  4  4  4 10 10  7  7  7  7  7  7  7  7  7  7  7] [7 7 7 7 7 7 7 4 4 4 4 4 7 7 7 7 7 7 7 7 7 7 7]\n",
      "32 [ 7  7  7  7  7  7 10 10 10 10 10 10 10 10 10 10 10  7  7  7  7  7  7] [5 5 5 5 5 5 4 4 4 4 4 4 4 4 4 4 4 4 5 5 5 5 5]\n",
      "39 [ 7  7  7  7  7  7  7  7  7 10 10 10 10 10 10  7  7  7  8  8  8  8  0] [5 5 5 5 5 5 5 5 5 0 0 0 0 0 0 5 5 5 5 5 5 5 5]\n",
      "46 [ 0  0  0  0  0  0  0  0 10 10  0 10 10 10 10  0  0  0  0  0  0  0  0] [0 0 0 0 0 0 0 4 4 4 4 4 4 4 4 0 0 0 0 0 0 0 0]\n",
      "60 [ 2  2  2  2  2  2  2  2  2  7 10 10 10 10  7  7  7  7  7  7  7  7  7] [7 2 2 2 2 2 2 2 2 2 2 4 4 4 2 2 7 7 7 7 7 7 7]\n",
      "64 [ 2  2  2  2  2  2  2  2  2  7 10 10 10 10  7  9  9  9  9  7  7  7  7] [2 2 2 2 2 2 2 2 2 7 8 8 8 8 7 9 9 9 9 9 7 7 7]\n",
      "73 [ 7  7  7  7  7  7  7  7  7 10 10 10 10 10 10  7  7  7  7  7  7  7  7] [7 7 7 7 7 7 7 7 7 0 0 0 0 0 0 7 7 7 7 7 7 7 7]\n",
      "82 [ 7  7  7  7  7  7  7  7  7  7 10 10 10  7  7  7  7  7  7  7  2  7  2] [7 7 7 7 7 7 7 7 7 7 7 4 4 7 7 7 7 7 7 7 7 7 7]\n",
      "94 [ 7  7  7  7  7  7  7  7  8  8  8 10 10  8  8  7  7  7  7  7  7  7  7] [7 7 7 7 7 7 7 7 0 0 0 0 0 0 0 0 7 7 7 7 7 7 7]\n",
      "125 [ 7  7  7  7  7  7  7  7  4  4 10 10  4  4  7  7  7  7  7  7  7  7  7] [7 7 7 7 7 7 7 7 4 4 4 4 4 4 7 7 7 7 7 7 7 7 7]\n",
      "159 [ 0  0  0  0  0  0  0 10 10  0  0  0  0 10  0  0  0  0  0  0  0  0  0] [0 0 0 0 0 0 4 4 4 0 0 0 4 4 4 0 0 0 0 0 0 0 0]\n",
      "167 [ 7  7  7  7  7  7  7  7  7  7 10 10 10 10 10  8  8  8  8  8  8  8  8] [7 7 7 7 7 7 7 7 7 7 8 8 8 8 8 8 8 8 8 8 8 8 8]\n",
      "179 [ 7  7  7  7  7  7  7  4  4  4  4 10  7  7  7  7  7  7  7  7  7  7  7] [7 7 7 7 7 7 7 7 4 4 4 4 7 7 7 7 7 7 7 7 7 7 7]\n",
      "203 [ 7  7  4  4  5  5  5 10 10 10  5  7  7  7  7  7  4  4  4  7  7  7  7] [5 5 5 5 5 5 5 5 5 5 5 5 7 7 7 7 5 5 5 5 5 7 7]\n",
      "231 [ 7  7  7  7  7  7  7  7  7  7 10 10 10  7  7  7  7  7  7  7  7  7  7] [7 7 7 7 7 7 7 7 7 7 4 4 4 7 7 7 7 7 7 7 7 7 7]\n",
      "276 [ 7  7  7  7  7  7  7  4  4  4  4  4 10  7  7  7  7  7  7  7  7  7  7] [7 7 7 7 7 7 7 7 7 4 4 4 4 7 7 7 7 7 7 7 7 7 7]\n"
     ]
    }
   ],
   "source": [
    "for e, ex in enumerate(preds):\n",
    "    if idx in ex:\n",
    "        if idx not in gts[e]:\n",
    "            print e, ex, gts[e]"
   ]
  },
  {
   "cell_type": "code",
   "execution_count": 27,
   "metadata": {
    "collapsed": false
   },
   "outputs": [
    {
     "name": "stdout",
     "output_type": "stream",
     "text": [
      "[(0, u'AF'), (1, u'AVB'), (2, u'BIGEMINY'), (3, u'EAR'), (4, u'IVR'), (5, u'JUNCTIONAL'), (6, u'NOISE'), (7, u'SINUS'), (8, u'SVT'), (9, u'TRIGEMINY'), (10, u'VT'), (11, u'WENCKEBACH')]\n"
     ]
    }
   ],
   "source": [
    "print list(enumerate(processor.classes))"
   ]
  },
  {
   "cell_type": "code",
   "execution_count": 45,
   "metadata": {
    "collapsed": false
   },
   "outputs": [
    {
     "name": "stdout",
     "output_type": "stream",
     "text": [
      "31dfeb7fa2fa41d47620c03563dc563c_0001.ecg\n",
      "103d5aacde440d1af2e1855fb15407fa_0001.ecg\n",
      "657bcde1cff082211dbffa557dd806bd_0003.ecg\n",
      "57f4cbd6b72213648794ada3f9e2a422_0007.ecg\n",
      "c3f2dcdc7c21930f29f686c5e82b4133_0001.ecg\n",
      "482de87985baff5b29ad2e21af95a920_0003.ecg\n",
      "86599d9cd50c03e67661465c476cbe62_0001.ecg\n",
      "7f18edfc73578fb0799618a7593353a1_0001.ecg\n",
      "d7bbe9677bf8a8b4a2f527563d1e41dc_0002.ecg\n",
      "7ee047a61367ba3ca3fd97e2dc5e3349_0002.ecg\n",
      "a70d3ac7390d3898dc9618daa3520185_0001.ecg\n",
      "9d395742b21ae7c5b9a00b7c90ddf1e1_0002.ecg\n",
      "0b32a14870df10b3429dfa6c360b3a50_0001.ecg\n",
      "421548dee4c07f8c26a549e71d5ab43d_0008.ecg\n",
      "ac94889559babde1298d00830a2e8eaa_0001.ecg\n",
      "b5ec4812d91cc047038b610004db6f8c_0001.ecg\n"
     ]
    }
   ],
   "source": [
    "import glob\n",
    "ecgs = glob.glob(\"/deep/group/med/irhythm/ecg/clean_30sec_recs/label_review/CARDIOL_MAY_2017/*.ecg\")\n",
    "ids = [17, 32, 39, 46, 60, 64, 73, 82, 94, 125, 159, 167, 179, 203, 231, 276]\n",
    "#ecgs = [np.fromfile(ecg, dtype=np.int16)[:5888] for ecg in ecgs]\n",
    "#ecgs = [processor.n.scaler.transform(ecg)[:,None] for ecg in ecgs];\n",
    "#f = processor.n.scaler.transform(ecgs[0])\n",
    "#for n in x:\n",
    "#    print np.sum((n - f)**2)\n",
    "#print (x[323] ==ecgs[323]).all()\n",
    "import os\n",
    "for i in ids:\n",
    "    print os.path.basename(ecgs[i])"
   ]
  },
  {
   "cell_type": "code",
   "execution_count": null,
   "metadata": {
    "collapsed": true
   },
   "outputs": [],
   "source": []
  }
 ],
 "metadata": {
  "kernelspec": {
   "display_name": "Python 2",
   "language": "python",
   "name": "python2"
  },
  "language_info": {
   "codemirror_mode": {
    "name": "ipython",
    "version": 2
   },
   "file_extension": ".py",
   "mimetype": "text/x-python",
   "name": "python",
   "nbconvert_exporter": "python",
   "pygments_lexer": "ipython2",
   "version": "2.7.6"
  }
 },
 "nbformat": 4,
 "nbformat_minor": 1
}
