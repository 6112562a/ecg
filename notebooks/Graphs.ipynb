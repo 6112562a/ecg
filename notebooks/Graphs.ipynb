{
 "cells": [
  {
   "cell_type": "code",
   "execution_count": 2,
   "metadata": {},
   "outputs": [
    {
     "name": "stdout",
     "output_type": "stream",
     "text": [
      "The autoreload extension is already loaded. To reload it, use:\n",
      "  %reload_ext autoreload\n"
     ]
    }
   ],
   "source": [
    "%load_ext autoreload \n",
    "%autoreload 2\n",
    "%matplotlib notebook\n",
    "import matplotlib.pyplot as plt\n",
    "import random\n",
    "import numpy as np\n",
    "import sys\n",
    "import os\n",
    "os.chdir(\"/Users/rajpurkar/Documents/Code/ecg\")\n",
    "sys.path.append('./ecg')"
   ]
  },
  {
   "cell_type": "markdown",
   "metadata": {},
   "source": [
    "# Loading Data"
   ]
  },
  {
   "cell_type": "code",
   "execution_count": null,
   "metadata": {
    "collapsed": true
   },
   "outputs": [],
   "source": [
    "LOAD_FROM_MODEL = False\n",
    "LOAD_FROM_FILE = False\n",
    "\n",
    "model_paths = ['saved/default/1498801603-612/0.430-0.849-013-0.313-0.883.hdf5',\n",
    "               'saved/default/1498801603-783/0.425-0.849-010-0.344-0.871.hdf5',\n",
    "               'saved/default/1498680570-155/0.426-0.848-011-0.339-0.873.hdf5',\n",
    "               'saved/default/1499315864-990/0.424-0.848-009-0.354-0.868.hdf5',\n",
    "               'saved/default/1499315858-514/0.436-0.849-015-0.284-0.893.hdf5']\n",
    "\n",
    "import load\n",
    "import json\n",
    "import util\n",
    "import predict\n",
    "\n",
    "if LOAD_FROM_MODEL is True:\n",
    "    params = util.get_model_params(model_paths[0])\n",
    "    test_params = json.load(open('./configs/test.json', 'r'))\n",
    "    x_gt, gt, processor, dl = load.load_test(\n",
    "            test_params,\n",
    "            train_params=params,\n",
    "            split='test')\n",
    "    model_probs = predict.get_ensemble_pred_probs(model_paths, x_gt)\n",
    "elif LOAD_FROM_FILE is True:\n",
    "    model_probs = None\n",
    "    #file_to_load = open('./configs/train.json', 'r')\n",
    "    file_to_load = open('./configs/test.json', 'r')\n",
    "    params = json.load(file_to_load)\n",
    "    dl, processor = load.load_train(params)"
   ]
  }
 ],
 "metadata": {
  "kernelspec": {
   "display_name": "Python 2",
   "language": "python",
   "name": "python2"
  },
  "language_info": {
   "codemirror_mode": {
    "name": "ipython",
    "version": 2
   },
   "file_extension": ".py",
   "mimetype": "text/x-python",
   "name": "python",
   "nbconvert_exporter": "python",
   "pygments_lexer": "ipython2",
   "version": "2.7.13"
  }
 },
 "nbformat": 4,
 "nbformat_minor": 2
}
