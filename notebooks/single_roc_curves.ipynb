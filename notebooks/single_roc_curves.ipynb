{
 "cells": [
  {
   "cell_type": "code",
   "execution_count": 13,
   "metadata": {
    "collapsed": true
   },
   "outputs": [],
   "source": [
    "import sys\n",
    "sys.path.append(\"/afs/cs.stanford.edu/u/awni/scr/ecg-master/ecg\")\n",
    "import predict\n",
    "import numpy as np\n",
    "from sklearn.metrics import roc_curve\n",
    "import matplotlib.pyplot as plt\n",
    "%matplotlib inline"
   ]
  },
  {
   "cell_type": "code",
   "execution_count": 14,
   "metadata": {
    "collapsed": false
   },
   "outputs": [],
   "source": [
    "prediction_folder = \"/deep/u/pranavsr/saved/predictions/1503713063/\"\n",
    "x, gt, probs, processor = predict.load_predictions(prediction_folder)"
   ]
  },
  {
   "cell_type": "code",
   "execution_count": 18,
   "metadata": {
    "collapsed": false
   },
   "outputs": [],
   "source": [
    "human_res = {'WENCKEBACH': ([0.019, 0.01, 0.028, 0.016, 0.002, 0.014, 0.015], [0.385, 0.439, 0.561, 0.155, 0.519, 0.524, 0.43]), 'NOISE': ([0.008, 0.012, 0.005, 0.019, 0.01, 0.009, 0.01], [0.497, 0.153, 0.407, 0.64, 0.402, 0.381, 0.414]), 'AF': ([0.052, 0.097, 0.075, 0.075, 0.075, 0.104, 0.08], [0.938, 0.881, 0.859, 0.781, 0.8, 0.875, 0.856]), 'JUNCTIONAL': ([0.014, 0.004, 0.005, 0.009, 0.008, 0.014, 0.009], [0.759, 0.681, 0.83, 0.511, 0.574, 0.638, 0.665]), 'TRIGEMINY': ([0.004, 0.003, 0.008, 0.004, 0.001, 0.007, 0.005], [0.912, 0.895, 0.912, 0.386, 0.649, 0.877, 0.772]), 'SINUS': ([0.127, 0.166, 0.101, 0.19, 0.227, 0.099, 0.151], [0.969, 0.822, 0.867, 0.907, 0.945, 0.857, 0.894]), 'VT': ([0.005, 0.002, 0.003, 0.002, 0.0, 0.003, 0.003], [0.5, 0.625, 0.5, 0.375, 0.625, 1.0, 0.604]), 'IVR': ([0.002, 0.025, 0.01, 0.001, 0.004, 0.013, 0.009], [0.627, 0.661, 0.661, 0.627, 0.407, 0.441, 0.571]), 'BIGEMINY': ([0.001, 0.005, 0.002, 0.006, 0.002, 0.003, 0.003], [0.911, 1.0, 1.0, 0.857, 0.786, 1.0, 0.926]), 'EAR': ([0.005, 0.015, 0.021, 0.008, 0.009, 0.009, 0.011], [0.294, 0.338, 0.294, 0.0, 0.147, 0.529, 0.267]), 'SVT': ([0.0, 0.016, 0.011, 0.044, 0.014, 0.022, 0.018], [0.312, 0.319, 0.759, 0.248, 0.348, 0.496, 0.414]), 'AVB': ([0.036, 0.03, 0.032, 0.046, 0.02, 0.027, 0.032], [0.787, 0.83, 0.596, 0.557, 0.74, 0.685, 0.699])}\n",
    "f, ax = plt.subplots(4,3,figsize=(14, 22))# 12, 4))\n",
    "for e, c in enumerate([\"AF\", \"TRIGEMINY\", \"AVB\"]):\n",
    "    class_name = c\n",
    "    class_idx = processor.class_to_int[class_name]\n",
    "    binary_gt = gt.copy().squeeze(axis=0)\n",
    "    class_mask = binary_gt == class_idx\n",
    "    binary_gt[class_mask] = 1\n",
    "    binary_gt[~class_mask] = 0\n",
    "    binary_probs = probs[:, :, class_idx]\n",
    "    fps, tps, _ = roc_curve(binary_gt.ravel(), binary_probs.ravel())\n",
    "    h_fps, h_tps = human_res[class_name]\n",
    "    h_fps, h_tps = np.array(h_fps), np.array(h_tps)\n",
    "    h_fps, avg_fps = h_fps[:-1], h_fps[-1:]\n",
    "    h_tps, avg_tps = h_tps[:-1], h_tps[-1:]\n",
    "    i = e % 4\n",
    "    j = e / 4\n",
    "    cax = ax[i][j]\n",
    "    #cax = ax[e]\n",
    "    cax.plot(fps, tps, lw=2, label=\"Model\")\n",
    "    cax.plot(h_fps, h_tps, 'r+', markersize=10, label=\"Individual Cardiologists\")\n",
    "    cax.plot(avg_fps, avg_tps, 'go', markersize=6, label=\"Average Cardiologist\")\n",
    "    cax.set_xlim(-0.008, 0.5)\n",
    "    cax.set_ylim(0, 1.05)\n",
    "    cax.set_title(\"Class {}\".format(c))\n",
    "    cax.set_xlabel('1 - Specificity')\n",
    "    cax.set_ylabel('Sensitivity')\n",
    "    cax.legend(loc=4)\n",
    "\n",
    "#plt.savefig(\"human_model_roc.pdf\",\n",
    "#   dpi=400,\n",
    "#   format='pdf',\n",
    "#   bbox_inches='tight')"
   ]
  },
  {
   "cell_type": "code",
   "execution_count": 43,
   "metadata": {
    "collapsed": false
   },
   "outputs": [
    {
     "name": "stdout",
     "output_type": "stream",
     "text": [
      "[ 0.009] [ 0.665]\n",
      "0.00908074881252 0.589473684211\n"
     ]
    }
   ],
   "source": [
    "print junctional[0],junctional[1]\n",
    "fps, tps = junctional[2:]\n",
    "idx = 94\n",
    "print fps[idx], tps[idx]"
   ]
  },
  {
   "cell_type": "code",
   "execution_count": null,
   "metadata": {
    "collapsed": true
   },
   "outputs": [],
   "source": []
  }
 ],
 "metadata": {
  "kernelspec": {
   "display_name": "Python 2",
   "language": "python",
   "name": "python2"
  },
  "language_info": {
   "codemirror_mode": {
    "name": "ipython",
    "version": 2
   },
   "file_extension": ".py",
   "mimetype": "text/x-python",
   "name": "python",
   "nbconvert_exporter": "python",
   "pygments_lexer": "ipython2",
   "version": "2.7.6"
  }
 },
 "nbformat": 4,
 "nbformat_minor": 1
}
