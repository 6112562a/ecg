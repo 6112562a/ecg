{
 "cells": [
  {
   "cell_type": "code",
   "execution_count": 95,
   "metadata": {
    "collapsed": false
   },
   "outputs": [
    {
     "name": "stdout",
     "output_type": "stream",
     "text": [
      "The autoreload extension is already loaded. To reload it, use:\n",
      "  %reload_ext autoreload\n"
     ]
    }
   ],
   "source": [
    "%load_ext autoreload \n",
    "%autoreload 2\n",
    "%matplotlib notebook\n",
    "import matplotlib.pyplot as plt\n",
    "import random\n",
    "import numpy as np\n",
    "import sys\n",
    "import os\n",
    "import sklearn.metrics as skm\n",
    "os.chdir(\"/afs/cs.stanford.edu/u/awni/scr/ecg-master\")\n",
    "sys.path.append('./ecg')"
   ]
  },
  {
   "cell_type": "code",
   "execution_count": 2,
   "metadata": {
    "collapsed": false
   },
   "outputs": [
    {
     "name": "stderr",
     "output_type": "stream",
     "text": [
      "\r",
      "0it [00:00, ?it/s]"
     ]
    },
    {
     "name": "stdout",
     "output_type": "stream",
     "text": [
      "Building blacklist...\n"
     ]
    },
    {
     "name": "stderr",
     "output_type": "stream",
     "text": [
      "336it [00:00, 1033.19it/s]\n",
      "0it [00:00, ?it/s]"
     ]
    },
    {
     "name": "stdout",
     "output_type": "stream",
     "text": [
      "Contains 328 patients\n"
     ]
    },
    {
     "name": "stderr",
     "output_type": "stream",
     "text": [
      "64121it [00:21, 3011.89it/s]\n",
      "  0%|          | 102/56378 [00:00<00:55, 1014.82it/s]"
     ]
    },
    {
     "name": "stdout",
     "output_type": "stream",
     "text": [
      "Contains 28835 patients\n",
      "Constructing Training Set...\n"
     ]
    },
    {
     "name": "stderr",
     "output_type": "stream",
     "text": [
      "100%|██████████| 56378/56378 [00:52<00:00, 1065.26it/s]\n",
      "  1%|▏         | 88/6346 [00:00<00:07, 870.83it/s]"
     ]
    },
    {
     "name": "stdout",
     "output_type": "stream",
     "text": [
      "Constructing Test Set...\n"
     ]
    },
    {
     "name": "stderr",
     "output_type": "stream",
     "text": [
      "100%|██████████| 6346/6346 [00:07<00:00, 895.26it/s]\n"
     ]
    },
    {
     "name": "stdout",
     "output_type": "stream",
     "text": [
      "Relabelling Classes...\n",
      "Fitting Normalization: robust_scale\n"
     ]
    },
    {
     "name": "stderr",
     "output_type": "stream",
     "text": [
      "./ecg/featurize.py:16: UserWarning: Expanding Dimensions...\n",
      "  warnings.warn(\"Expanding Dimensions...\")\n"
     ]
    },
    {
     "name": "stdout",
     "output_type": "stream",
     "text": [
      "Applying Normalization...\n",
      "Applying Normalization...\n"
     ]
    },
    {
     "name": "stderr",
     "output_type": "stream",
     "text": [
      "\r",
      "0it [00:00, ?it/s]"
     ]
    },
    {
     "name": "stdout",
     "output_type": "stream",
     "text": [
      "Length of training set 56378\n",
      "Length of test set 6346\n",
      "Loading using processor...\n"
     ]
    },
    {
     "name": "stderr",
     "output_type": "stream",
     "text": [
      "336it [00:00, 740.75it/s]\n",
      "0it [00:00, ?it/s]\n",
      "  4%|▍         | 14/336 [00:00<00:02, 136.85it/s]"
     ]
    },
    {
     "name": "stdout",
     "output_type": "stream",
     "text": [
      "Contains 328 patients\n",
      "Constructing Training Set...\n",
      "Constructing Test Set...\n"
     ]
    },
    {
     "name": "stderr",
     "output_type": "stream",
     "text": [
      "100%|██████████| 336/336 [00:02<00:00, 144.62it/s]\n",
      "Using TensorFlow backend.\n"
     ]
    },
    {
     "name": "stdout",
     "output_type": "stream",
     "text": [
      "Relabelling Classes...\n",
      "Applying Normalization...\n",
      "Length of training set 0\n",
      "Length of test set 336\n",
      "Size: 336 examples.\n",
      "336/336 [==============================] - 6s     \n"
     ]
    }
   ],
   "source": [
    "model_path = \"/deep/group/pranavsr/saved/default/1499315864-990/0.424-0.848-009-0.354-0.868.hdf5\"\n",
    "\n",
    "import load\n",
    "import json\n",
    "import util\n",
    "import predict\n",
    "\n",
    "params = util.get_model_params(model_path)\n",
    "test_params = json.load(open('./configs/test.json', 'r'))\n",
    "x_gt, gt, processor, dl = load.load_test(\n",
    "            test_params,\n",
    "            train_params=params,\n",
    "            split='test')\n",
    "probs = predict.get_model_pred_probs(model_path, x_gt)"
   ]
  },
  {
   "cell_type": "code",
   "execution_count": 16,
   "metadata": {
    "collapsed": false
   },
   "outputs": [
    {
     "name": "stdout",
     "output_type": "stream",
     "text": [
      "             precision    recall  f1-score   support\n",
      "\n",
      "       AFIB      0.838     0.458     0.592       642\n",
      "        AFL      0.536     0.973     0.691       369\n",
      "  AVB_TYPE2      0.684     0.679     0.681       364\n",
      "   BIGEMINY      0.905     0.884     0.895       216\n",
      "        CHB      0.814     0.846     0.830       487\n",
      "        EAR      0.613     0.457     0.523       256\n",
      "        IVR      0.836     0.626     0.716       195\n",
      " JUNCTIONAL      0.873     0.530     0.659       570\n",
      "      NOISE      0.919     0.747     0.824       605\n",
      "      SINUS      0.821     0.941     0.877      3034\n",
      "        SVT      0.597     0.380     0.464       308\n",
      "  TRIGEMINY      0.866     0.956     0.909       251\n",
      "         VT      0.366     0.872     0.516        47\n",
      " WENCKEBACH      0.701     0.714     0.707       384\n",
      "\n",
      "avg / total      0.793     0.780     0.771      7728\n",
      "\n",
      "        AFIB    AFL    AVB_    BIGE    CHB    EAR    IVR    JUNC    NOIS    SINU    SVT    TRIG    VT    WENC\n",
      "----  ------  -----  ------  ------  -----  -----  -----  ------  ------  ------  -----  ------  ----  ------\n",
      "AFIB     294    162       0       0     18      1      0      25      14      73     44       0    11       0\n",
      "AFL       10    359       0       0      0      0      0       0       0       0      0       0     0       0\n",
      "AVB_       0      0     247       0     47      0      1       1       0       9      0       0     0      59\n",
      "BIGE       1      3       0     191      0      1      0       2       0      17      0       0     1       0\n",
      "CHB        0      0      29       0    412      0      0       5       0      11      0       0     0      30\n",
      "EAR        3      1       5       0      0    117      0       0       0      99     31       0     0       0\n",
      "IVR        6      0       0       0      0      0    122       7       0      18      0       0    42       0\n",
      "JUNC       0      0       4       0      0     26     13     302       0     215      0       5     5       0\n",
      "NOIS      27     14       4       0      0      0      0       2     452     100      0       6     0       0\n",
      "SINU       3     24      12      15      3     44     10       2       3    2856      4      26     4      28\n",
      "SVT        6    107       1       0      0      2      0       0      23      44    117       0     8       0\n",
      "TRIG       0      0       0       5      0      0      0       0       0       6      0     240     0       0\n",
      "VT         1      0       1       0      0      0      0       0       0       4      0       0    41       0\n",
      "WENC       0      0      58       0     26      0      0       0       0      26      0       0     0     274\n",
      "AUC Scores\n",
      "AFIB    \t0.947\n",
      "AFL     \t0.989\n",
      "AVB_TYPE2\t0.978\n",
      "BIGEMINY\t0.998\n",
      "CHB     \t0.988\n",
      "EAR     \t0.908\n",
      "IVR     \t0.995\n",
      "JUNCTIONAL\t0.987\n",
      "NOISE   \t0.981\n",
      "SINUS   \t0.973\n",
      "SVT     \t0.965\n",
      "TRIGEMINY\t0.997\n",
      "VT      \t0.995\n",
      "WENCKEBACH\t0.978\n"
     ]
    }
   ],
   "source": [
    "gts = gt.squeeze()\n",
    "preds = np.argmax(probs, axis=-1)\n",
    "c_report = skm.classification_report(gts.ravel(), preds.ravel(), target_names=processor.classes, digits=3)\n",
    "print c_report\n",
    "def roc_auc(gts, probs, index):\n",
    "    n_gts = np.zeros_like(gts)\n",
    "    n_gts[gts==index] = 1\n",
    "    n_ps = probs[:,:,index].squeeze()\n",
    "    n_gts, n_ps = n_gts.ravel(), n_ps.ravel()\n",
    "    return skm.roc_curve(n_gts, n_ps, pos_label=1), skm.roc_auc_score(n_gts, n_ps)\n",
    "\n",
    "cnf = skm.confusion_matrix(gts.ravel(), preds.ravel())\n",
    "cat_classes = [c[:4] for c in processor.classes]\n",
    "t_cnf = np.hstack([np.array(cat_classes)[:,None], cnf])\n",
    "print tabulate(t_cnf, headers=[''] + cat_classes)\n",
    "print \"AUC Scores\"\n",
    "for idx, cname in processor.int_to_class.items():\n",
    "   print \"{: <8}\\t{:.3f}\".format(cname, roc_auc(gts, probs, idx)[1])"
   ]
  },
  {
   "cell_type": "code",
   "execution_count": 58,
   "metadata": {
    "collapsed": false
   },
   "outputs": [
    {
     "data": {
      "text/plain": [
       "<matplotlib.text.Text at 0x7f301c579c90>"
      ]
     },
     "execution_count": 58,
     "metadata": {},
     "output_type": "execute_result"
    },
    {
     "data": {
      "image/png": "[encoded data removed]",
      "text/plain": [
       "<matplotlib.figure.Figure at 0x7f301c739cd0>"
      ]
     },
     "metadata": {},
     "output_type": "display_data"
    }
   ],
   "source": [
    "idx = 3\n",
    "fp, tp, _ = roc_auc(gts, probs, idx)[0]\n",
    "plt.plot(fp, tp)\n",
    "plt.xlabel(\"False Positive Rate\")\n",
    "plt.ylabel(\"True Positive Rate\")\n",
    "plt.title(\"ROC Curve for {}\".format(processor.classes[idx]))"
   ]
  },
  {
   "cell_type": "code",
   "execution_count": 119,
   "metadata": {
    "collapsed": false
   },
   "outputs": [
    {
     "name": "stdout",
     "output_type": "stream",
     "text": [
      " (1, 336, 23)\n",
      "Model SINUS SINUS SINUS SINUS SINUS SINUS SINUS SINUS SINUS SINUS SVT SVT SVT SVT SINUS SINUS SINUS SINUS SINUS SINUS SINUS SINUS SINUS\n",
      "Group SINUS SINUS SINUS SINUS SINUS SINUS SINUS SINUS SINUS SVT SVT SVT SVT SVT SINUS SINUS SINUS SINUS SINUS SINUS SINUS SINUS SINUS\n",
      "data/label_review/CARDIOL_MAY_2017/27e6769960612a2c65ced7185fa0656c_0002.ecg\n"
     ]
    }
   ],
   "source": [
    "#test_dir = \"/deep/group/med/irhythm/ecg/clean_30sec_recs/label_review/CARDIOL_MAY_2017\"\n",
    "#%matplotlib notebook\n",
    "gt_name = \"SVT\"\n",
    "p_name = \"SINUS\"\n",
    "def get_all(gt_name, p_name):\n",
    "    gt_idx = processor.classes.index(gt_name)\n",
    "    p_idx = processor.classes.index(p_name)\n",
    "    p_idxs = np.unique(np.where(np.logical_and(preds==p_idx,gt==gt_idx))[1])\n",
    "    print gt.shape\n",
    "    return x_gt[p_idxs,:].squeeze(), preds[p_idxs,:], gt[:,p_idxs,:].squeeze(), recs[p_idxs]\n",
    "ecgs,prx,gtx,precs = get_all(gt_name, p_name)\n",
    "ind = 0\n",
    "#plt.plot(ecgs[ind])\n",
    "print \"Model\", \" \".join(processor.int_to_class[p] for p in prx[ind])\n",
    "print \"Group\", \" \".join(processor.int_to_class[p] for p in gtx[ind,:])\n",
    "print precs[ind]"
   ]
  },
  {
   "cell_type": "code",
   "execution_count": 6,
   "metadata": {
    "collapsed": false
   },
   "outputs": [
    {
     "name": "stderr",
     "output_type": "stream",
     "text": [
      "\r",
      "0it [00:00, ?it/s]"
     ]
    },
    {
     "name": "stdout",
     "output_type": "stream",
     "text": [
      "Loading using processor...\n"
     ]
    },
    {
     "name": "stderr",
     "output_type": "stream",
     "text": [
      "336it [00:00, 1011.65it/s]\n",
      "0it [00:00, ?it/s]\n",
      " 46%|████▌     | 154/336 [00:00<00:00, 1527.80it/s]"
     ]
    },
    {
     "name": "stdout",
     "output_type": "stream",
     "text": [
      "Contains 328 patients\n",
      "Constructing Training Set...\n",
      "Constructing Test Set...\n"
     ]
    },
    {
     "name": "stderr",
     "output_type": "stream",
     "text": [
      "100%|██████████| 336/336 [00:00<00:00, 1222.61it/s]\n"
     ]
    },
    {
     "name": "stdout",
     "output_type": "stream",
     "text": [
      "Relabelling Classes...\n",
      "Applying Normalization...\n",
      "Length of training set 0\n",
      "Length of test set 336\n",
      "Size: 336 examples.\n"
     ]
    },
    {
     "name": "stderr",
     "output_type": "stream",
     "text": [
      "336it [00:00, 7516.43it/s]\n",
      "0it [00:00, ?it/s]\n",
      " 35%|███▌      | 118/336 [00:00<00:00, 1178.81it/s]"
     ]
    },
    {
     "name": "stdout",
     "output_type": "stream",
     "text": [
      "Loading using processor...\n",
      "Contains 328 patients\n",
      "Constructing Training Set...\n",
      "Constructing Test Set...\n"
     ]
    },
    {
     "name": "stderr",
     "output_type": "stream",
     "text": [
      "100%|██████████| 336/336 [00:00<00:00, 1268.82it/s]\n"
     ]
    },
    {
     "name": "stdout",
     "output_type": "stream",
     "text": [
      "Relabelling Classes...\n",
      "Applying Normalization...\n",
      "Length of training set 0\n",
      "Length of test set 336\n",
      "Size: 336 examples.\n"
     ]
    },
    {
     "name": "stderr",
     "output_type": "stream",
     "text": [
      "336it [00:00, 6637.18it/s]\n",
      "0it [00:00, ?it/s]\n",
      " 54%|█████▍    | 181/336 [00:00<00:00, 1803.83it/s]"
     ]
    },
    {
     "name": "stdout",
     "output_type": "stream",
     "text": [
      "Loading using processor...\n",
      "Contains 328 patients\n",
      "Constructing Training Set...\n",
      "Constructing Test Set...\n"
     ]
    },
    {
     "name": "stderr",
     "output_type": "stream",
     "text": [
      "100%|██████████| 336/336 [00:00<00:00, 1789.62it/s]\n"
     ]
    },
    {
     "name": "stdout",
     "output_type": "stream",
     "text": [
      "Relabelling Classes...\n",
      "Applying Normalization...\n",
      "Length of training set 0\n",
      "Length of test set 336\n",
      "Size: 336 examples.\n"
     ]
    },
    {
     "name": "stderr",
     "output_type": "stream",
     "text": [
      "336it [00:00, 7482.63it/s]\n",
      "0it [00:00, ?it/s]\n",
      " 36%|███▌      | 121/336 [00:00<00:00, 1199.17it/s]"
     ]
    },
    {
     "name": "stdout",
     "output_type": "stream",
     "text": [
      "Loading using processor...\n",
      "Contains 328 patients\n",
      "Constructing Training Set...\n",
      "Constructing Test Set...\n"
     ]
    },
    {
     "name": "stderr",
     "output_type": "stream",
     "text": [
      "100%|██████████| 336/336 [00:00<00:00, 1185.10it/s]\n"
     ]
    },
    {
     "name": "stdout",
     "output_type": "stream",
     "text": [
      "Relabelling Classes...\n",
      "Applying Normalization...\n",
      "Length of training set 0\n",
      "Length of test set 336\n",
      "Size: 336 examples.\n"
     ]
    },
    {
     "name": "stderr",
     "output_type": "stream",
     "text": [
      "336it [00:00, 6962.70it/s]\n",
      "0it [00:00, ?it/s]\n",
      " 53%|█████▎    | 179/336 [00:00<00:00, 1783.95it/s]"
     ]
    },
    {
     "name": "stdout",
     "output_type": "stream",
     "text": [
      "Loading using processor...\n",
      "Contains 328 patients\n",
      "Constructing Training Set...\n",
      "Constructing Test Set...\n"
     ]
    },
    {
     "name": "stderr",
     "output_type": "stream",
     "text": [
      "100%|██████████| 336/336 [00:00<00:00, 1792.12it/s]\n"
     ]
    },
    {
     "name": "stdout",
     "output_type": "stream",
     "text": [
      "Relabelling Classes...\n",
      "Applying Normalization...\n",
      "Length of training set 0\n",
      "Length of test set 336\n",
      "Size: 336 examples.\n"
     ]
    },
    {
     "name": "stderr",
     "output_type": "stream",
     "text": [
      "336it [00:00, 6363.41it/s]\n",
      "0it [00:00, ?it/s]\n",
      " 58%|█████▊    | 194/336 [00:00<00:00, 1932.08it/s]"
     ]
    },
    {
     "name": "stdout",
     "output_type": "stream",
     "text": [
      "Loading using processor...\n",
      "Contains 328 patients\n",
      "Constructing Training Set...\n",
      "Constructing Test Set...\n"
     ]
    },
    {
     "name": "stderr",
     "output_type": "stream",
     "text": [
      "100%|██████████| 336/336 [00:00<00:00, 1904.57it/s]\n"
     ]
    },
    {
     "name": "stdout",
     "output_type": "stream",
     "text": [
      "Relabelling Classes...\n",
      "Applying Normalization...\n",
      "Length of training set 0\n",
      "Length of test set 336\n",
      "Size: 336 examples.\n"
     ]
    }
   ],
   "source": [
    "# Human perf\n",
    "import human_performance as hp\n",
    "h_gt, h_probs = hp.human_gt_and_probs(test_params, x_gt, gt, processor)"
   ]
  },
  {
   "cell_type": "code",
   "execution_count": 9,
   "metadata": {
    "collapsed": false
   },
   "outputs": [
    {
     "name": "stdout",
     "output_type": "stream",
     "text": [
      "             precision    recall  f1-score   support\n",
      "\n",
      "       AFIB      0.495     0.537     0.515      3852\n",
      "        AFL      0.600     0.674     0.635      2214\n",
      "  AVB_TYPE2      0.519     0.556     0.537      2184\n",
      "   BIGEMINY      0.845     0.829     0.837      1296\n",
      "        CHB      0.806     0.620     0.701      2922\n",
      "        EAR      0.636     0.380     0.476      1536\n",
      "        IVR      0.654     0.611     0.632      1170\n",
      " JUNCTIONAL      0.757     0.624     0.684      3420\n",
      "      NOISE      0.788     0.749     0.768      3630\n",
      "      SINUS      0.803     0.898     0.847     18204\n",
      "        SVT      0.500     0.408     0.449      1848\n",
      "  TRIGEMINY      0.859     0.828     0.843      1506\n",
      "         VT      0.500     0.652     0.566       282\n",
      " WENCKEBACH      0.661     0.539     0.593      2304\n",
      "\n",
      "avg / total      0.723     0.724     0.719     46368\n",
      "\n",
      "        AFIB    AFL    AVB_    BIGE    CHB    EAR    IVR    JUNC    NOIS    SINU    SVT    TRIG    VT    WENC\n",
      "----  ------  -----  ------  ------  -----  -----  -----  ------  ------  ------  -----  ------  ----  ------\n",
      "AFIB    2067    481       0       0     23     19     14     265     181     439    318       0    24      21\n",
      "AFL      278   1493       0       3      0      0     20       0       0     195    225       0     0       0\n",
      "AVB_      36      0    1214       0    221     13     61      54      16     303      0       0     6     260\n",
      "BIGE      36      0       0    1075      0      0      4       0      29     149      0       3     0       0\n",
      "CHB       23      0     485       5   1813      0     13      70      90     287      0       9     0     127\n",
      "EAR      192     29      33       0      0    583      0      92       7     489     73      37     0       1\n",
      "IVR      202      0       0      16      0     13    715      65      13      68      5       0    73       0\n",
      "JUNC     199     13       0       0      0      8    115    2135      95     827     28       0     0       0\n",
      "NOIS     322     71       6       0      2      5     21      28    2720     409     31      12     0       3\n",
      "SINU     534     76     104      82      7    206     75     102     228   16340     62     143    22     223\n",
      "SVT      243    314       2       0      1     67     13       1      68     324    754       0    59       2\n",
      "TRIG       0      0       0      91      0      0      0       0       0     168      0    1247     0       0\n",
      "VT        40      6       0       0      0      0     21       0       4      22      5       0   184       0\n",
      "WENC       2      5     496       0    182      2     21       9       0     340      6       0     0    1241\n"
     ]
    }
   ],
   "source": [
    "from tabulate import tabulate\n",
    "h_ps = np.argmax(h_probs, axis=2)\n",
    "c_report = skm.classification_report(h_gt.ravel(), h_ps.ravel(), target_names=processor.classes, digits=3)\n",
    "print c_report\n",
    "cnf = skm.confusion_matrix(h_gt.ravel(), h_ps.ravel())\n",
    "cat_classes = [c[:4] for c in processor.classes]\n",
    "t_cnf = np.hstack([np.array(cat_classes)[:,None], cnf])\n",
    "print tabulate(t_cnf, headers=[''] + cat_classes)"
   ]
  },
  {
   "cell_type": "code",
   "execution_count": null,
   "metadata": {
    "collapsed": true
   },
   "outputs": [],
   "source": []
  }
 ],
 "metadata": {
  "kernelspec": {
   "display_name": "Python 2",
   "language": "python",
   "name": "python2"
  },
  "language_info": {
   "codemirror_mode": {
    "name": "ipython",
    "version": 2
   },
   "file_extension": ".py",
   "mimetype": "text/x-python",
   "name": "python",
   "nbconvert_exporter": "python",
   "pygments_lexer": "ipython2",
   "version": "2.7.6"
  }
 },
 "nbformat": 4,
 "nbformat_minor": 1
}
