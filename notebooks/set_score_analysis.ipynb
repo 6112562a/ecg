{
 "cells": [
  {
   "cell_type": "code",
   "execution_count": 1,
   "metadata": {
    "collapsed": true
   },
   "outputs": [],
   "source": [
    "%load_ext autoreload \n",
    "%autoreload 2\n",
    "%matplotlib notebook\n",
    "import matplotlib.pyplot as plt\n",
    "import random\n",
    "import numpy as np\n",
    "import sys\n",
    "import os\n",
    "import sklearn.metrics as skm\n",
    "from tabulate import tabulate\n",
    "os.chdir(\"/afs/cs.stanford.edu/u/awni/scr/ecg-master\")\n",
    "sys.path.append('./ecg')\n",
    "\n",
    "model_path = \"/deep/group/pranavsr/saved/default/1499315864-990/0.424-0.848-009-0.354-0.868.hdf5\"\n",
    "\n",
    "import load\n",
    "import json\n",
    "import util\n",
    "import predict"
   ]
  },
  {
   "cell_type": "code",
   "execution_count": 2,
   "metadata": {
    "collapsed": false
   },
   "outputs": [
    {
     "name": "stderr",
     "output_type": "stream",
     "text": [
      "\r",
      "0it [00:00, ?it/s]"
     ]
    },
    {
     "name": "stdout",
     "output_type": "stream",
     "text": [
      "Building blacklist...\n"
     ]
    },
    {
     "name": "stderr",
     "output_type": "stream",
     "text": [
      "336it [00:00, 690.03it/s]\n",
      "0it [00:00, ?it/s]"
     ]
    },
    {
     "name": "stdout",
     "output_type": "stream",
     "text": [
      "Contains 328 patients\n"
     ]
    },
    {
     "name": "stderr",
     "output_type": "stream",
     "text": [
      "64121it [00:22, 2831.58it/s]\n",
      "  0%|          | 98/56378 [00:00<00:57, 973.39it/s]"
     ]
    },
    {
     "name": "stdout",
     "output_type": "stream",
     "text": [
      "Contains 28835 patients\n",
      "Constructing Training Set...\n"
     ]
    },
    {
     "name": "stderr",
     "output_type": "stream",
     "text": [
      "100%|██████████| 56378/56378 [00:53<00:00, 1059.11it/s]\n",
      "  2%|▏         | 137/6346 [00:00<00:04, 1366.98it/s]"
     ]
    },
    {
     "name": "stdout",
     "output_type": "stream",
     "text": [
      "Constructing Test Set...\n"
     ]
    },
    {
     "name": "stderr",
     "output_type": "stream",
     "text": [
      "100%|██████████| 6346/6346 [00:05<00:00, 1183.29it/s]\n"
     ]
    },
    {
     "name": "stdout",
     "output_type": "stream",
     "text": [
      "Relabelling Classes...\n",
      "Fitting Normalization: robust_scale\n"
     ]
    },
    {
     "name": "stderr",
     "output_type": "stream",
     "text": [
      "./ecg/featurize.py:16: UserWarning: Expanding Dimensions...\n",
      "  warnings.warn(\"Expanding Dimensions...\")\n"
     ]
    },
    {
     "name": "stdout",
     "output_type": "stream",
     "text": [
      "Applying Normalization...\n",
      "Applying Normalization...\n"
     ]
    },
    {
     "name": "stderr",
     "output_type": "stream",
     "text": [
      "\r",
      "0it [00:00, ?it/s]"
     ]
    },
    {
     "name": "stdout",
     "output_type": "stream",
     "text": [
      "Length of training set 56378\n",
      "Length of test set 6346\n",
      "Loading using processor...\n"
     ]
    },
    {
     "name": "stderr",
     "output_type": "stream",
     "text": [
      "336it [00:00, 706.92it/s]\n",
      "0it [00:00, ?it/s]\n",
      "  4%|▍         | 14/336 [00:00<00:02, 136.28it/s]"
     ]
    },
    {
     "name": "stdout",
     "output_type": "stream",
     "text": [
      "Contains 328 patients\n",
      "Constructing Training Set...\n",
      "Constructing Test Set...\n"
     ]
    },
    {
     "name": "stderr",
     "output_type": "stream",
     "text": [
      "100%|██████████| 336/336 [00:02<00:00, 140.29it/s]\n",
      "Using TensorFlow backend.\n"
     ]
    },
    {
     "name": "stdout",
     "output_type": "stream",
     "text": [
      "Relabelling Classes...\n",
      "Applying Normalization...\n",
      "Length of training set 0\n",
      "Length of test set 336\n",
      "Size: 336 examples.\n",
      "336/336 [==============================] - 7s     \n"
     ]
    }
   ],
   "source": [
    "params = util.get_model_params(model_path)\n",
    "test_params = json.load(open('./configs/test.json', 'r'))\n",
    "x_gt, gt, processor, dl = load.load_test(\n",
    "            test_params,\n",
    "            train_params=params,\n",
    "            split='test')\n",
    "probs = predict.get_model_pred_probs(model_path, x_gt)"
   ]
  },
  {
   "cell_type": "code",
   "execution_count": 41,
   "metadata": {
    "collapsed": false
   },
   "outputs": [
    {
     "name": "stderr",
     "output_type": "stream",
     "text": [
      "\r",
      "0it [00:00, ?it/s]"
     ]
    },
    {
     "name": "stdout",
     "output_type": "stream",
     "text": [
      "Loading using processor...\n"
     ]
    },
    {
     "name": "stderr",
     "output_type": "stream",
     "text": [
      "336it [00:00, 984.38it/s]\n",
      "0it [00:00, ?it/s]\n",
      " 46%|████▌     | 155/336 [00:00<00:00, 1546.66it/s]"
     ]
    },
    {
     "name": "stdout",
     "output_type": "stream",
     "text": [
      "Contains 328 patients\n",
      "Constructing Training Set...\n",
      "Constructing Test Set...\n"
     ]
    },
    {
     "name": "stderr",
     "output_type": "stream",
     "text": [
      "100%|██████████| 336/336 [00:00<00:00, 1544.29it/s]\n"
     ]
    },
    {
     "name": "stdout",
     "output_type": "stream",
     "text": [
      "Relabelling Classes...\n",
      "Applying Normalization...\n",
      "Length of training set 0\n",
      "Length of test set 336\n",
      "Size: 336 examples.\n"
     ]
    },
    {
     "name": "stderr",
     "output_type": "stream",
     "text": [
      "336it [00:00, 7592.36it/s]\n",
      "0it [00:00, ?it/s]\n",
      " 35%|███▌      | 118/336 [00:00<00:00, 1179.85it/s]"
     ]
    },
    {
     "name": "stdout",
     "output_type": "stream",
     "text": [
      "Loading using processor...\n",
      "Contains 328 patients\n",
      "Constructing Training Set...\n",
      "Constructing Test Set...\n"
     ]
    },
    {
     "name": "stderr",
     "output_type": "stream",
     "text": [
      "100%|██████████| 336/336 [00:00<00:00, 1210.94it/s]\n"
     ]
    },
    {
     "name": "stdout",
     "output_type": "stream",
     "text": [
      "Relabelling Classes...\n",
      "Applying Normalization...\n",
      "Length of training set 0\n",
      "Length of test set 336\n",
      "Size: 336 examples.\n"
     ]
    },
    {
     "name": "stderr",
     "output_type": "stream",
     "text": [
      "336it [00:00, 7903.66it/s]\n",
      "0it [00:00, ?it/s]\n",
      " 38%|███▊      | 126/336 [00:00<00:00, 1251.45it/s]"
     ]
    },
    {
     "name": "stdout",
     "output_type": "stream",
     "text": [
      "Loading using processor...\n",
      "Contains 328 patients\n",
      "Constructing Training Set...\n",
      "Constructing Test Set...\n"
     ]
    },
    {
     "name": "stderr",
     "output_type": "stream",
     "text": [
      "100%|██████████| 336/336 [00:00<00:00, 1256.38it/s]\n"
     ]
    },
    {
     "name": "stdout",
     "output_type": "stream",
     "text": [
      "Relabelling Classes...\n",
      "Applying Normalization...\n",
      "Length of training set 0\n",
      "Length of test set 336\n",
      "Size: 336 examples.\n"
     ]
    },
    {
     "name": "stderr",
     "output_type": "stream",
     "text": [
      "336it [00:00, 7963.01it/s]\n",
      "0it [00:00, ?it/s]\n",
      " 55%|█████▍    | 184/336 [00:00<00:00, 1837.96it/s]"
     ]
    },
    {
     "name": "stdout",
     "output_type": "stream",
     "text": [
      "Loading using processor...\n",
      "Contains 328 patients\n",
      "Constructing Training Set...\n",
      "Constructing Test Set...\n"
     ]
    },
    {
     "name": "stderr",
     "output_type": "stream",
     "text": [
      "100%|██████████| 336/336 [00:00<00:00, 1513.00it/s]\n"
     ]
    },
    {
     "name": "stdout",
     "output_type": "stream",
     "text": [
      "Relabelling Classes...\n",
      "Applying Normalization...\n",
      "Length of training set 0\n",
      "Length of test set 336\n",
      "Size: 336 examples.\n"
     ]
    },
    {
     "name": "stderr",
     "output_type": "stream",
     "text": [
      "336it [00:00, 7483.47it/s]\n",
      "0it [00:00, ?it/s]\n",
      " 37%|███▋      | 123/336 [00:00<00:00, 1224.25it/s]"
     ]
    },
    {
     "name": "stdout",
     "output_type": "stream",
     "text": [
      "Loading using processor...\n",
      "Contains 328 patients\n",
      "Constructing Training Set...\n",
      "Constructing Test Set...\n"
     ]
    },
    {
     "name": "stderr",
     "output_type": "stream",
     "text": [
      "100%|██████████| 336/336 [00:00<00:00, 1231.44it/s]\n"
     ]
    },
    {
     "name": "stdout",
     "output_type": "stream",
     "text": [
      "Relabelling Classes...\n",
      "Applying Normalization...\n",
      "Length of training set 0\n",
      "Length of test set 336\n",
      "Size: 336 examples.\n"
     ]
    },
    {
     "name": "stderr",
     "output_type": "stream",
     "text": [
      "336it [00:00, 7469.50it/s]\n",
      "0it [00:00, ?it/s]\n",
      " 39%|███▊      | 130/336 [00:00<00:00, 1291.40it/s]"
     ]
    },
    {
     "name": "stdout",
     "output_type": "stream",
     "text": [
      "Loading using processor...\n",
      "Contains 328 patients\n",
      "Constructing Training Set...\n",
      "Constructing Test Set...\n"
     ]
    },
    {
     "name": "stderr",
     "output_type": "stream",
     "text": [
      "100%|██████████| 336/336 [00:00<00:00, 1240.62it/s]\n"
     ]
    },
    {
     "name": "stdout",
     "output_type": "stream",
     "text": [
      "Relabelling Classes...\n",
      "Applying Normalization...\n",
      "Length of training set 0\n",
      "Length of test set 336\n",
      "Size: 336 examples.\n"
     ]
    }
   ],
   "source": [
    "import human_performance as hp\n",
    "h_gt, h_probs = hp.human_gt_and_probs(test_params, x_gt, gt, processor)"
   ]
  },
  {
   "cell_type": "code",
   "execution_count": 81,
   "metadata": {
    "collapsed": false
   },
   "outputs": [],
   "source": [
    "def merge(c1, c2, probs, gt):\n",
    "    print probs.shape\n",
    "    print gt.shape\n",
    "\n",
    "def seq_auc(gt, probs, index):\n",
    "    n_gts = np.zeros_like(gt)\n",
    "    n_gts[gt==index] = 1\n",
    "    n_ps = probs[:,:,index].squeeze()\n",
    "    n_gts, n_ps = n_gts.ravel(), n_ps.ravel()\n",
    "    return skm.roc_curve(n_gts, n_ps, pos_label=1), skm.roc_auc_score(n_gts, n_ps)\n",
    "\n",
    "def set_auc(gt, probs, index):\n",
    "    n_classes = np.max(gt)\n",
    "    gt = gt.squeeze()\n",
    "    n_gts = np.zeros_like(gt)\n",
    "    n_gts[gt==index] = 1\n",
    "    n_gts = np.max(n_gts, axis=1)\n",
    "    n_ps = np.max(probs[:,:,index].squeeze(), axis=1)\n",
    "    n_gts, n_ps = n_gts.ravel(), n_ps.ravel()\n",
    "    return skm.roc_curve(n_gts, n_ps, pos_label=1), skm.roc_auc_score(n_gts, n_ps)\n",
    "\n",
    "def print_scores(h_gt, h_probs, classes):\n",
    "    h_ps = np.argmax(h_probs, axis=2)\n",
    "    c_report = skm.classification_report(h_gt.ravel(), h_ps.ravel(), target_names=classes, digits=3)\n",
    "    print c_report\n",
    "    cnf = skm.confusion_matrix(h_gt.ravel(), h_ps.ravel())\n",
    "    cat_classes = [c[:4] for c in classes]\n",
    "    t_cnf = np.hstack([np.array(cat_classes)[:,None], cnf])\n",
    "    print tabulate(t_cnf, headers=[''] + cat_classes)\n",
    "    \n",
    "def merge(c1, c2, h_gt, probs):\n",
    "        \n",
    "    classes = list(processor.classes)\n",
    "    classes.remove(c2)\n",
    "    \n",
    "    class_to_int = {v:k for k,v in processor.int_to_class.items()}\n",
    "    c1 = class_to_int[c1]\n",
    "    c2 = class_to_int[c2]\n",
    "    nc1 = min(c1, c2)\n",
    "    nc2 = max(c1, c2)\n",
    "    \n",
    "    h_gt = np.copy(h_gt)\n",
    "    h_gt[h_gt == nc2] = nc1\n",
    "    h_gt[h_gt >= nc2] -= 1 \n",
    "    \n",
    "    shape = list(probs.shape)\n",
    "    shape[-1] -= 1\n",
    "    n_probs = np.zeros(shape)\n",
    "    n_probs[..., :nc2] = probs[..., :nc2]\n",
    "    n_probs[..., nc2:] = probs[..., nc2+1:]\n",
    "    n_probs[..., nc1] += probs[..., nc2]\n",
    "\n",
    "    return h_gt, n_probs, classes\n"
   ]
  },
  {
   "cell_type": "markdown",
   "metadata": {},
   "source": [
    "# Model to Group comparisons"
   ]
  },
  {
   "cell_type": "markdown",
   "metadata": {},
   "source": [
    "### AUC Results for Sequence and Set"
   ]
  },
  {
   "cell_type": "code",
   "execution_count": 39,
   "metadata": {
    "collapsed": false
   },
   "outputs": [
    {
     "name": "stdout",
     "output_type": "stream",
     "text": [
      "Rhythm      \tSeq AUC\tSet AUC\n",
      "AFIB    \t0.947\t0.940\n",
      "AFL     \t0.989\t0.984\n",
      "AVB_TYPE2\t0.978\t0.967\n",
      "BIGEMINY\t0.998\t0.994\n",
      "CHB     \t0.988\t0.978\n",
      "EAR     \t0.908\t0.934\n",
      "IVR     \t0.995\t0.986\n",
      "JUNCTIONAL\t0.987\t0.980\n",
      "NOISE   \t0.981\t0.949\n",
      "SINUS   \t0.973\t0.982\n",
      "SVT     \t0.965\t0.930\n",
      "TRIGEMINY\t0.997\t0.996\n",
      "VT      \t0.995\t0.981\n",
      "WENCKEBACH\t0.978\t0.980\n"
     ]
    }
   ],
   "source": [
    "print \"Rhythm      \\tSeq AUC\\tSet AUC\"\n",
    "for idx, cname in processor.int_to_class.items():\n",
    "    sq = seq_auc(gt, probs, idx)[1]\n",
    "    st = set_auc(gt, probs, idx)[1]\n",
    "    print \"{: <8}\\t{:.3f}\\t{:.3f}\".format(cname, sq, st)"
   ]
  },
  {
   "cell_type": "markdown",
   "metadata": {},
   "source": [
    "### Unmerged"
   ]
  },
  {
   "cell_type": "code",
   "execution_count": 78,
   "metadata": {
    "collapsed": false
   },
   "outputs": [
    {
     "name": "stdout",
     "output_type": "stream",
     "text": [
      "             precision    recall  f1-score   support\n",
      "\n",
      "       AFIB      0.838     0.458     0.592       642\n",
      "        AFL      0.536     0.973     0.691       369\n",
      "  AVB_TYPE2      0.684     0.679     0.681       364\n",
      "   BIGEMINY      0.905     0.884     0.895       216\n",
      "        CHB      0.814     0.846     0.830       487\n",
      "        EAR      0.613     0.457     0.523       256\n",
      "        IVR      0.836     0.626     0.716       195\n",
      " JUNCTIONAL      0.873     0.530     0.659       570\n",
      "      NOISE      0.919     0.747     0.824       605\n",
      "      SINUS      0.821     0.941     0.877      3034\n",
      "        SVT      0.597     0.380     0.464       308\n",
      "  TRIGEMINY      0.866     0.956     0.909       251\n",
      "         VT      0.366     0.872     0.516        47\n",
      " WENCKEBACH      0.701     0.714     0.707       384\n",
      "\n",
      "avg / total      0.793     0.780     0.771      7728\n",
      "\n",
      "        AFIB    AFL    AVB_    BIGE    CHB    EAR    IVR    JUNC    NOIS    SINU    SVT    TRIG    VT    WENC\n",
      "----  ------  -----  ------  ------  -----  -----  -----  ------  ------  ------  -----  ------  ----  ------\n",
      "AFIB     294    162       0       0     18      1      0      25      14      73     44       0    11       0\n",
      "AFL       10    359       0       0      0      0      0       0       0       0      0       0     0       0\n",
      "AVB_       0      0     247       0     47      0      1       1       0       9      0       0     0      59\n",
      "BIGE       1      3       0     191      0      1      0       2       0      17      0       0     1       0\n",
      "CHB        0      0      29       0    412      0      0       5       0      11      0       0     0      30\n",
      "EAR        3      1       5       0      0    117      0       0       0      99     31       0     0       0\n",
      "IVR        6      0       0       0      0      0    122       7       0      18      0       0    42       0\n",
      "JUNC       0      0       4       0      0     26     13     302       0     215      0       5     5       0\n",
      "NOIS      27     14       4       0      0      0      0       2     452     100      0       6     0       0\n",
      "SINU       3     24      12      15      3     44     10       2       3    2856      4      26     4      28\n",
      "SVT        6    107       1       0      0      2      0       0      23      44    117       0     8       0\n",
      "TRIG       0      0       0       5      0      0      0       0       0       6      0     240     0       0\n",
      "VT         1      0       1       0      0      0      0       0       0       4      0       0    41       0\n",
      "WENC       0      0      58       0     26      0      0       0       0      26      0       0     0     274\n"
     ]
    }
   ],
   "source": [
    "print_scores(gt, probs, processor.classes)"
   ]
  },
  {
   "cell_type": "markdown",
   "metadata": {},
   "source": [
    "### Merge AFIB and AFL (marked as AFIB)"
   ]
  },
  {
   "cell_type": "code",
   "execution_count": 82,
   "metadata": {
    "collapsed": false
   },
   "outputs": [
    {
     "name": "stdout",
     "output_type": "stream",
     "text": [
      "             precision    recall  f1-score   support\n",
      "\n",
      "       AFIB      0.799     0.819     0.809      1011\n",
      "  AVB_TYPE2      0.684     0.679     0.681       364\n",
      "   BIGEMINY      0.905     0.884     0.895       216\n",
      "        CHB      0.814     0.846     0.830       487\n",
      "        EAR      0.613     0.457     0.523       256\n",
      "        IVR      0.836     0.626     0.716       195\n",
      " JUNCTIONAL      0.873     0.530     0.659       570\n",
      "      NOISE      0.922     0.747     0.826       605\n",
      "      SINUS      0.823     0.941     0.878      3034\n",
      "        SVT      0.589     0.364     0.450       308\n",
      "  TRIGEMINY      0.866     0.956     0.909       251\n",
      "         VT      0.366     0.872     0.516        47\n",
      " WENCKEBACH      0.701     0.714     0.707       384\n",
      "\n",
      "avg / total      0.803     0.801     0.794      7728\n",
      "\n",
      "        AFIB    AVB_    BIGE    CHB    EAR    IVR    JUNC    NOIS    SINU    SVT    TRIG    VT    WENC\n",
      "----  ------  ------  ------  -----  -----  -----  ------  ------  ------  -----  ------  ----  ------\n",
      "AFIB     828       0       0     18      1      0      25      12      73     43       0    11       0\n",
      "AVB_       0     247       0     47      0      1       1       0       9      0       0     0      59\n",
      "BIGE       4       0     191      0      1      0       2       0      17      0       0     1       0\n",
      "CHB        0      29       0    412      0      0       5       0      11      0       0     0      30\n",
      "EAR        9       5       0      0    117      0       0       0      94     31       0     0       0\n",
      "IVR        6       0       0      0      0    122       7       0      18      0       0    42       0\n",
      "JUNC       0       4       0      0     26     13     302       0     215      0       5     5       0\n",
      "NOIS      42       4       0      0      0      0       2     452      99      0       6     0       0\n",
      "SINU      28      12      15      3     44     10       2       3    2855      4      26     4      28\n",
      "SVT      118       1       0      0      2      0       0      23      44    112       0     8       0\n",
      "TRIG       0       0       5      0      0      0       0       0       6      0     240     0       0\n",
      "VT         1       1       0      0      0      0       0       0       4      0       0    41       0\n",
      "WENC       0      58       0     26      0      0       0       0      26      0       0     0     274\n"
     ]
    }
   ],
   "source": [
    "print_scores(*merge(\"AFIB\", \"AFL\", gt, probs))"
   ]
  },
  {
   "cell_type": "markdown",
   "metadata": {},
   "source": [
    "### Merge CHB and AVB_TYPE2 (marked as CHB)"
   ]
  },
  {
   "cell_type": "code",
   "execution_count": 84,
   "metadata": {
    "collapsed": false
   },
   "outputs": [
    {
     "name": "stdout",
     "output_type": "stream",
     "text": [
      "             precision    recall  f1-score   support\n",
      "\n",
      "       AFIB      0.838     0.458     0.592       642\n",
      "        AFL      0.536     0.973     0.691       369\n",
      "   BIGEMINY      0.843     0.864     0.853       851\n",
      "        CHB      0.905     0.884     0.895       216\n",
      "        EAR      0.613     0.457     0.523       256\n",
      "        IVR      0.836     0.626     0.716       195\n",
      " JUNCTIONAL      0.873     0.530     0.659       570\n",
      "      NOISE      0.919     0.747     0.824       605\n",
      "      SINUS      0.822     0.941     0.878      3034\n",
      "        SVT      0.597     0.380     0.464       308\n",
      "  TRIGEMINY      0.866     0.956     0.909       251\n",
      "         VT      0.366     0.872     0.516        47\n",
      " WENCKEBACH      0.701     0.714     0.707       384\n",
      "\n",
      "avg / total      0.803     0.789     0.781      7728\n",
      "\n",
      "        AFIB    AFL    BIGE    CHB    EAR    IVR    JUNC    NOIS    SINU    SVT    TRIG    VT    WENC\n",
      "----  ------  -----  ------  -----  -----  -----  ------  ------  ------  -----  ------  ----  ------\n",
      "AFIB     294    162      18      0      1      0      25      14      73     44       0    11       0\n",
      "AFL       10    359       0      0      0      0       0       0       0      0       0     0       0\n",
      "BIGE       0      0     735      0      0      1       6       0      20      0       0     0      89\n",
      "CHB        1      3       0    191      1      0       2       0      17      0       0     1       0\n",
      "EAR        3      1       6      0    117      0       0       0      98     31       0     0       0\n",
      "IVR        6      0       0      0      0    122       7       0      18      0       0    42       0\n",
      "JUNC       0      0       8      0     26     13     302       0     211      0       5     5       0\n",
      "NOIS      27     14       4      0      0      0       2     452     100      0       6     0       0\n",
      "SINU       3     24      15     15     44     10       2       3    2856      4      26     4      28\n",
      "SVT        6    107       1      0      2      0       0      23      44    117       0     8       0\n",
      "TRIG       0      0       0      5      0      0       0       0       6      0     240     0       0\n",
      "VT         1      0       1      0      0      0       0       0       4      0       0    41       0\n",
      "WENC       0      0      84      0      0      0       0       0      26      0       0     0     274\n"
     ]
    }
   ],
   "source": [
    "print_scores(*merge(\"CHB\", \"AVB_TYPE2\", gt, probs))"
   ]
  },
  {
   "cell_type": "markdown",
   "metadata": {},
   "source": [
    "# Individual to Group comparisons\n",
    "### Unmerged"
   ]
  },
  {
   "cell_type": "code",
   "execution_count": 68,
   "metadata": {
    "collapsed": false
   },
   "outputs": [
    {
     "name": "stdout",
     "output_type": "stream",
     "text": [
      "             precision    recall  f1-score   support\n",
      "\n",
      "       AFIB      0.495     0.537     0.515      3852\n",
      "        AFL      0.600     0.674     0.635      2214\n",
      "  AVB_TYPE2      0.519     0.556     0.537      2184\n",
      "   BIGEMINY      0.845     0.829     0.837      1296\n",
      "        CHB      0.806     0.620     0.701      2922\n",
      "        EAR      0.636     0.380     0.476      1536\n",
      "        IVR      0.654     0.611     0.632      1170\n",
      " JUNCTIONAL      0.757     0.624     0.684      3420\n",
      "      NOISE      0.788     0.749     0.768      3630\n",
      "      SINUS      0.803     0.898     0.847     18204\n",
      "        SVT      0.500     0.408     0.449      1848\n",
      "  TRIGEMINY      0.859     0.828     0.843      1506\n",
      "         VT      0.500     0.652     0.566       282\n",
      " WENCKEBACH      0.661     0.539     0.593      2304\n",
      "\n",
      "avg / total      0.723     0.724     0.719     46368\n",
      "\n",
      "        AFIB    AFL    AVB_    BIGE    CHB    EAR    IVR    JUNC    NOIS    SINU    SVT    TRIG    VT    WENC\n",
      "----  ------  -----  ------  ------  -----  -----  -----  ------  ------  ------  -----  ------  ----  ------\n",
      "AFIB    2067    481       0       0     23     19     14     265     181     439    318       0    24      21\n",
      "AFL      278   1493       0       3      0      0     20       0       0     195    225       0     0       0\n",
      "AVB_      36      0    1214       0    221     13     61      54      16     303      0       0     6     260\n",
      "BIGE      36      0       0    1075      0      0      4       0      29     149      0       3     0       0\n",
      "CHB       23      0     485       5   1813      0     13      70      90     287      0       9     0     127\n",
      "EAR      192     29      33       0      0    583      0      92       7     489     73      37     0       1\n",
      "IVR      202      0       0      16      0     13    715      65      13      68      5       0    73       0\n",
      "JUNC     199     13       0       0      0      8    115    2135      95     827     28       0     0       0\n",
      "NOIS     322     71       6       0      2      5     21      28    2720     409     31      12     0       3\n",
      "SINU     534     76     104      82      7    206     75     102     228   16340     62     143    22     223\n",
      "SVT      243    314       2       0      1     67     13       1      68     324    754       0    59       2\n",
      "TRIG       0      0       0      91      0      0      0       0       0     168      0    1247     0       0\n",
      "VT        40      6       0       0      0      0     21       0       4      22      5       0   184       0\n",
      "WENC       2      5     496       0    182      2     21       9       0     340      6       0     0    1241\n"
     ]
    }
   ],
   "source": [
    "print_scores(h_gt, h_probs, processor.classes)"
   ]
  },
  {
   "cell_type": "markdown",
   "metadata": {},
   "source": [
    "### Merge AFIB and AFL (marked as AFIB)"
   ]
  },
  {
   "cell_type": "code",
   "execution_count": 75,
   "metadata": {
    "collapsed": false
   },
   "outputs": [
    {
     "name": "stdout",
     "output_type": "stream",
     "text": [
      "             precision    recall  f1-score   support\n",
      "\n",
      "       AFIB      0.648     0.712     0.679      6066\n",
      "  AVB_TYPE2      0.519     0.556     0.537      2184\n",
      "   BIGEMINY      0.845     0.829     0.837      1296\n",
      "        CHB      0.806     0.620     0.701      2922\n",
      "        EAR      0.636     0.380     0.476      1536\n",
      "        IVR      0.654     0.611     0.632      1170\n",
      " JUNCTIONAL      0.757     0.624     0.684      3420\n",
      "      NOISE      0.788     0.749     0.768      3630\n",
      "      SINUS      0.803     0.898     0.847     18204\n",
      "        SVT      0.500     0.408     0.449      1848\n",
      "  TRIGEMINY      0.859     0.828     0.843      1506\n",
      "         VT      0.500     0.652     0.566       282\n",
      " WENCKEBACH      0.661     0.539     0.593      2304\n",
      "\n",
      "avg / total      0.738     0.741     0.735     46368\n",
      "\n",
      "        AFIB    AVB_    BIGE    CHB    EAR    IVR    JUNC    NOIS    SINU    SVT    TRIG    VT    WENC\n",
      "----  ------  ------  ------  -----  -----  -----  ------  ------  ------  -----  ------  ----  ------\n",
      "AFIB    4319       0       3     23     19     34     265     181     634    543       0    24      21\n",
      "AVB_      36    1214       0    221     13     61      54      16     303      0       0     6     260\n",
      "BIGE      36       0    1075      0      0      4       0      29     149      0       3     0       0\n",
      "CHB       23     485       5   1813      0     13      70      90     287      0       9     0     127\n",
      "EAR      221      33       0      0    583      0      92       7     489     73      37     0       1\n",
      "IVR      202       0      16      0     13    715      65      13      68      5       0    73       0\n",
      "JUNC     212       0       0      0      8    115    2135      95     827     28       0     0       0\n",
      "NOIS     393       6       0      2      5     21      28    2720     409     31      12     0       3\n",
      "SINU     610     104      82      7    206     75     102     228   16340     62     143    22     223\n",
      "SVT      557       2       0      1     67     13       1      68     324    754       0    59       2\n",
      "TRIG       0       0      91      0      0      0       0       0     168      0    1247     0       0\n",
      "VT        46       0       0      0      0     21       0       4      22      5       0   184       0\n",
      "WENC       7     496       0    182      2     21       9       0     340      6       0     0    1241\n"
     ]
    }
   ],
   "source": [
    "print_scores(*merge(\"AFIB\", \"AFL\", h_gt, h_probs))"
   ]
  },
  {
   "cell_type": "markdown",
   "metadata": {},
   "source": [
    "### Merge CHB and AVB_TYPE2 (marked as CHB)"
   ]
  },
  {
   "cell_type": "code",
   "execution_count": 76,
   "metadata": {
    "collapsed": false
   },
   "outputs": [
    {
     "name": "stdout",
     "output_type": "stream",
     "text": [
      "             precision    recall  f1-score   support\n",
      "\n",
      "       AFIB      0.495     0.537     0.515      3852\n",
      "        AFL      0.600     0.674     0.635      2214\n",
      "   BIGEMINY      0.813     0.731     0.770      5106\n",
      "        CHB      0.845     0.829     0.837      1296\n",
      "        EAR      0.636     0.380     0.476      1536\n",
      "        IVR      0.654     0.611     0.632      1170\n",
      " JUNCTIONAL      0.757     0.624     0.684      3420\n",
      "      NOISE      0.788     0.749     0.768      3630\n",
      "      SINUS      0.803     0.898     0.847     18204\n",
      "        SVT      0.500     0.408     0.449      1848\n",
      "  TRIGEMINY      0.859     0.828     0.843      1506\n",
      "         VT      0.500     0.652     0.566       282\n",
      " WENCKEBACH      0.661     0.539     0.593      2304\n",
      "\n",
      "avg / total      0.737     0.739     0.735     46368\n",
      "\n",
      "        AFIB    AFL    BIGE    CHB    EAR    IVR    JUNC    NOIS    SINU    SVT    TRIG    VT    WENC\n",
      "----  ------  -----  ------  -----  -----  -----  ------  ------  ------  -----  ------  ----  ------\n",
      "AFIB    2067    481      23      0     19     14     265     181     439    318       0    24      21\n",
      "AFL      278   1493       0      3      0     20       0       0     195    225       0     0       0\n",
      "BIGE      59      0    3733      5     13     74     124     106     590      0       9     6     387\n",
      "CHB       36      0       0   1075      0      4       0      29     149      0       3     0       0\n",
      "EAR      192     29      33      0    583      0      92       7     489     73      37     0       1\n",
      "IVR      202      0       0     16     13    715      65      13      68      5       0    73       0\n",
      "JUNC     199     13       0      0      8    115    2135      95     827     28       0     0       0\n",
      "NOIS     322     71       8      0      5     21      28    2720     409     31      12     0       3\n",
      "SINU     534     76     111     82    206     75     102     228   16340     62     143    22     223\n",
      "SVT      243    314       3      0     67     13       1      68     324    754       0    59       2\n",
      "TRIG       0      0       0     91      0      0       0       0     168      0    1247     0       0\n",
      "VT        40      6       0      0      0     21       0       4      22      5       0   184       0\n",
      "WENC       2      5     678      0      2     21       9       0     340      6       0     0    1241\n"
     ]
    }
   ],
   "source": [
    "print_scores(*merge(\"CHB\", \"AVB_TYPE2\", h_gt, h_probs))"
   ]
  }
 ],
 "metadata": {
  "kernelspec": {
   "display_name": "Python 2",
   "language": "python",
   "name": "python2"
  },
  "language_info": {
   "codemirror_mode": {
    "name": "ipython",
    "version": 2
   },
   "file_extension": ".py",
   "mimetype": "text/x-python",
   "name": "python",
   "nbconvert_exporter": "python",
   "pygments_lexer": "ipython2",
   "version": "2.7.6"
  }
 },
 "nbformat": 4,
 "nbformat_minor": 1
}
